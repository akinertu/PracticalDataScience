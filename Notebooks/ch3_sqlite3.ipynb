{
 "cells": [
  {
   "cell_type": "markdown",
   "id": "7022b9ae-9390-45a2-bbe6-fd92321d1ee5",
   "metadata": {
    "tags": []
   },
   "source": [
    "## sqlite3"
   ]
  },
  {
   "cell_type": "code",
   "execution_count": null,
   "id": "70480619-1f16-40d7-968f-5849ed9d770b",
   "metadata": {},
   "outputs": [],
   "source": [
    "import sqlite3\n",
    "connection = sqlite3.connect('chinook.db')\n",
    "cursor = connection.cursor()"
   ]
  },
  {
   "cell_type": "code",
   "execution_count": null,
   "id": "37bc35f7-92f2-4f05-816e-c9acd0f7998d",
   "metadata": {
    "tags": []
   },
   "outputs": [],
   "source": [
    "# list out tables -- .table does not work from Python sqlite3\n",
    "cursor.execute(\"SELECT name FROM sqlite_master WHERE type='table';\")\n",
    "cursor.fetchall()"
   ]
  },
  {
   "cell_type": "code",
   "execution_count": null,
   "id": "e4cf70cf-8c8d-4229-b620-b2a69960f036",
   "metadata": {},
   "outputs": [],
   "source": [
    "# get table information (column names, types, settings)\n",
    "cursor.execute('PRAGMA table_info(artists);')\n",
    "cursor.fetchall()"
   ]
  },
  {
   "cell_type": "code",
   "execution_count": null,
   "id": "ef0fdb15-4b5a-428e-a73f-1a231a0d5892",
   "metadata": {},
   "outputs": [],
   "source": [
    "# SELECT the first 5 rows of artists\n",
    "cursor.execute('SELECT * FROM artists LIMIT 5;')\n",
    "cursor.fetchall()"
   ]
  },
  {
   "cell_type": "code",
   "execution_count": null,
   "id": "cbade6bb-eb20-4e50-98dc-d7caf56a5e2a",
   "metadata": {},
   "outputs": [],
   "source": [
    "# especially for longer queries, it helps to format them like this, with each SQL command on a separate line\n",
    "query = \"\"\"\n",
    "SELECT *\n",
    "FROM artists\n",
    "LIMIT 5;\n",
    "\"\"\"\n",
    "cursor.execute(query)\n",
    "cursor.fetchall()"
   ]
  },
  {
   "cell_type": "code",
   "execution_count": null,
   "id": "8a64f335-ba46-4005-b9e0-13e36ac9ccee",
   "metadata": {},
   "outputs": [],
   "source": [
    "# get table information (column names, types, settings)\n",
    "cursor.execute('PRAGMA table_info(invoices);')\n",
    "cursor.fetchall()"
   ]
  },
  {
   "cell_type": "code",
   "execution_count": null,
   "id": "11f4ea6b-d8ad-4842-8197-a4ad355c90b0",
   "metadata": {
    "tags": []
   },
   "outputs": [],
   "source": [
    "# save table column names in a list\n",
    "cursor.execute('PRAGMA table_info(invoices);')\n",
    "results = cursor.fetchall()\n",
    "column_names = [r[1] for r in results]"
   ]
  },
  {
   "cell_type": "code",
   "execution_count": null,
   "id": "eb51dbe5-6dde-4339-b503-ef09694e3ca5",
   "metadata": {},
   "outputs": [],
   "source": [
    "column_names"
   ]
  },
  {
   "cell_type": "code",
   "execution_count": null,
   "id": "ecc8a7d4-ba46-43d0-8cb2-e80dc4d58805",
   "metadata": {},
   "outputs": [],
   "source": [
    "cursor.execute('SELECT * FROM invoices LIMIT 5;')\n",
    "cursor.fetchall()"
   ]
  },
  {
   "cell_type": "code",
   "execution_count": null,
   "id": "585709d3-f8ed-4152-8ba5-c330f62e6a2a",
   "metadata": {},
   "outputs": [],
   "source": [
    "# ORDER BY\n",
    "cursor.execute('SELECT Total, InvoiceDate from invoices ORDER BY Total DESC LIMIT 5;')\n",
    "cursor.fetchall()"
   ]
  },
  {
   "cell_type": "code",
   "execution_count": null,
   "id": "b7a06372-8414-442e-8dec-59322b315114",
   "metadata": {},
   "outputs": [],
   "source": [
    "# WHERE statement\n",
    "cursor.execute('SELECT Total, BillingCountry from invoices WHERE BillingCountry == \"Canada\" LIMIT 5;')\n",
    "cursor.fetchall()"
   ]
  },
  {
   "cell_type": "code",
   "execution_count": null,
   "id": "b1f70de6-4045-437e-ae85-4ae3999d3431",
   "metadata": {},
   "outputs": [],
   "source": [
    "# WHERE using an inserted argument\n",
    "cursor.execute('SELECT Total, BillingCountry from invoices WHERE BillingCountry == ? LIMIT 5;', ('Canada',))\n",
    "cursor.fetchall()"
   ]
  },
  {
   "cell_type": "code",
   "execution_count": null,
   "id": "d72aa226-63a6-4e01-b9fc-952aefdeb467",
   "metadata": {},
   "outputs": [],
   "source": [
    "# LIKE command\n",
    "cursor.execute('SELECT Total, BillingCountry from invoices WHERE BillingCountry LIKE \"%can%\" LIMIT 5;')\n",
    "cursor.fetchall()"
   ]
  },
  {
   "cell_type": "code",
   "execution_count": null,
   "id": "91993665-8556-4a83-b024-cf192acbd4c4",
   "metadata": {},
   "outputs": [],
   "source": [
    "# GROUP BY statement\n",
    "cursor.execute('SELECT SUM(Total), BillingCountry from invoices GROUP BY BillingCountry ORDER BY SUM(Total) DESC LIMIT 5;')\n",
    "cursor.fetchall()"
   ]
  },
  {
   "cell_type": "code",
   "execution_count": null,
   "id": "3b800ce3-02ed-4f6b-b41a-ae5045ca0f28",
   "metadata": {},
   "outputs": [],
   "source": [
    "# examine column names for invoice_items table\n",
    "cursor.execute('PRAGMA table_info(invoice_items);')\n",
    "cursor.fetchall()"
   ]
  },
  {
   "cell_type": "code",
   "execution_count": null,
   "id": "a57563da-203a-47e0-be19-a13b893788bb",
   "metadata": {},
   "outputs": [],
   "source": [
    "# examine a sample of the data\n",
    "cursor.execute('SELECT * FROM invoice_items LIMIT 5;')\n",
    "cursor.fetchall()"
   ]
  },
  {
   "cell_type": "code",
   "execution_count": null,
   "id": "a109788c-a930-44e7-bc3b-0e714d1c12de",
   "metadata": {},
   "outputs": [],
   "source": [
    "# aliases can be used to rename columns and tables\n",
    "# according to some SQL style guides, it's not best practice to alias a table\n",
    "cursor.execute('SELECT i.TrackID as tid, i.UnitPrice as up FROM invoice_items as i LIMIT 5;')\n",
    "cursor.fetchall()"
   ]
  },
  {
   "cell_type": "code",
   "execution_count": null,
   "id": "77cab2f2-2dbd-45ce-9b4f-855d4ffc6de1",
   "metadata": {},
   "outputs": [],
   "source": [
    "# DISTINCT\n",
    "cursor.execute('SELECT DISTINCT UnitPrice FROM invoice_items;')\n",
    "cursor.fetchall()"
   ]
  },
  {
   "cell_type": "code",
   "execution_count": null,
   "id": "dddd85bd-e25d-4318-8595-d277d9eef6a0",
   "metadata": {},
   "outputs": [],
   "source": [
    "# JOIN\n",
    "# get tracks that were purchased and combine with the country\n",
    "query = \"\"\"\n",
    "SELECT invoices.BillingCountry, invoice_items.TrackId\n",
    "FROM invoices\n",
    "JOIN invoice_items\n",
    "ON invoices.InvoiceId = invoice_items.InvoiceId\n",
    "LIMIT 5;\n",
    "\"\"\"\n",
    "cursor.execute(query)\n",
    "cursor.fetchall()"
   ]
  },
  {
   "cell_type": "code",
   "execution_count": null,
   "id": "dfdd656c-8406-40ad-9a70-84f325e693fd",
   "metadata": {},
   "outputs": [],
   "source": [
    "# get number of purchased tracks for each track by country, sorted by the top-most purchased\n",
    "query = \"\"\"\n",
    "SELECT invoice_items.TrackId, COUNT(invoice_items.TrackId), invoices.BillingCountry\n",
    "FROM invoices\n",
    "JOIN invoice_items\n",
    "ON invoices.InvoiceId = invoice_items.InvoiceId\n",
    "GROUP BY invoices.BillingCountry\n",
    "ORDER BY COUNT(invoice_items.TrackId) DESC\n",
    "LIMIT 5;\n",
    "\"\"\"\n",
    "cursor.execute(query)\n",
    "cursor.fetchall()"
   ]
  },
  {
   "cell_type": "code",
   "execution_count": null,
   "id": "4058d558-d4d7-4bb0-825d-a84f39cfdd46",
   "metadata": {},
   "outputs": [],
   "source": [
    "# multiple JOINs\n",
    "query = \"\"\"\n",
    "SELECT tracks.Name, COUNT(invoice_items.TrackId), invoices.BillingCountry\n",
    "FROM invoices\n",
    "JOIN invoice_items\n",
    "ON invoices.InvoiceId = invoice_items.InvoiceId\n",
    "JOIN tracks\n",
    "ON tracks.TrackId = invoice_items.TrackId\n",
    "GROUP BY invoices.BillingCountry\n",
    "ORDER BY COUNT(invoice_items.TrackId) DESC\n",
    "LIMIT 5;\n",
    "\"\"\"\n",
    "cursor.execute(query)\n",
    "cursor.fetchall()"
   ]
  },
  {
   "cell_type": "code",
   "execution_count": null,
   "id": "1a501081-23fc-4a24-a393-5ff3421a92c8",
   "metadata": {},
   "outputs": [],
   "source": [
    "# this same command as above can also be done with a subquery like this, but is easier with multiple joins\n",
    "query = \"\"\"\n",
    "SELECT tracks.Name, invoice_merged.track_count, invoice_merged.BillingCountry\n",
    "FROM\n",
    "    (SELECT ii.TrackId, COUNT(ii.TrackId) as track_count, i.BillingCountry\n",
    "    FROM invoices as i\n",
    "    JOIN invoice_items as ii\n",
    "    ON i.InvoiceId = ii.InvoiceId\n",
    "    GROUP BY BillingCountry) as invoice_merged\n",
    "JOIN tracks\n",
    "ON tracks.TrackId = invoice_merged.TrackId\n",
    "ORDER BY track_count DESC\n",
    "LIMIT 5;\n",
    "\"\"\"\n",
    "cursor.execute(query)\n",
    "cursor.fetchall()"
   ]
  },
  {
   "cell_type": "code",
   "execution_count": null,
   "id": "226ddec8-b02c-43a3-8c39-393c43108735",
   "metadata": {},
   "outputs": [],
   "source": [
    "# be sure to close the connection when done\n",
    "connection.close()"
   ]
  },
  {
   "cell_type": "markdown",
   "id": "c8ec844d-35a3-4825-a87d-093c1289bce7",
   "metadata": {},
   "source": [
    "### Storing data in a sqlite3 database"
   ]
  },
  {
   "cell_type": "code",
   "execution_count": 8,
   "id": "3e794335-a9bc-405f-98ef-f1d624dfe9ed",
   "metadata": {},
   "outputs": [
    {
     "name": "stdout",
     "output_type": "stream",
     "text": [
      "<class 'list'>\n"
     ]
    }
   ],
   "source": [
    "# hypothetical book sales data\n",
    "book_data = [('12-1-2020', 'Practical Data Science With Python', 19.99, 1),\n",
    "       ('12-15-2020', 'Python Machine Learning', 27.99, 1),\n",
    "       ('12-17-2020', 'Machine Learning For Algorithmic Trading', 34.99, 1)]\n",
    "print(type(book_data))"
   ]
  },
  {
   "cell_type": "code",
   "execution_count": null,
   "id": "f9fcfd74-2b35-45b4-8d8a-d0cc3739c052",
   "metadata": {},
   "outputs": [],
   "source": [
    "# CREATE and INSERT\n",
    "connection = sqlite3.connect('book_sales.db') #book_sales.db file will be created if it does not exist.\n",
    "cursor = connection.cursor()"
   ]
  },
  {
   "cell_type": "code",
   "execution_count": null,
   "id": "894a4a30-a610-4e10-95b8-48f127070664",
   "metadata": {},
   "outputs": [],
   "source": [
    "# Create table\n",
    "cursor.execute('''CREATE TABLE IF NOT EXISTS book_sales\n",
    "             (date text, book_title text, price real, quantity real)''')\n",
    "#table: book_sales, column:date, datatype:text"
   ]
  },
  {
   "cell_type": "code",
   "execution_count": null,
   "id": "35b4aeca-c711-4d06-9e88-43a5f5441439",
   "metadata": {},
   "outputs": [],
   "source": [
    "# the table is now there\n",
    "cursor.execute(\"SELECT name FROM sqlite_master WHERE type='table';\")\n",
    "cursor.fetchall()"
   ]
  },
  {
   "cell_type": "code",
   "execution_count": null,
   "id": "1b2c5a85-5560-4faf-940b-4e894129dda5",
   "metadata": {},
   "outputs": [],
   "source": [
    "# Insert a row of data\n",
    "cursor.execute(\"INSERT INTO book_sales VALUES (?, ?, ?, ?)\", book_data[0])\n",
    "'''We can also use string formatting to place our values into the \n",
    "query, but this is not recommended. String formatting of SQL queries is a little less \n",
    "safe because we can suffer from a SQL injection attack. For example, if a hacker was \n",
    "able to put an arbitrary string into our SQL query, they could insert something like ; \n",
    "DROP TABLE book_sales''"
   ]
  },
  {
   "cell_type": "code",
   "execution_count": null,
   "id": "84b101c8-b920-4ed6-b2cc-8367afccd460",
   "metadata": {},
   "outputs": [],
   "source": [
    "cursor.execute('SELECT * FROM book_sales ;')\n",
    "cursor.fetchall()"
   ]
  },
  {
   "cell_type": "code",
   "execution_count": null,
   "id": "7dec6fb3-ccda-48bc-8674-6045ea318640",
   "metadata": {},
   "outputs": [],
   "source": [
    "# Save the changes with .commit()\n",
    "# Without this line, the inserted data will not be saved in the database after we close the connection\n",
    "connection.commit()"
   ]
  },
  {
   "cell_type": "code",
   "execution_count": null,
   "id": "cbc735cf-c53b-4ab5-811b-d667cf8b65df",
   "metadata": {},
   "outputs": [],
   "source": [
    "# insert several records at a time\n",
    "cursor.executemany('INSERT INTO book_sales VALUES (?, ?, ?, ?)', book_data[1:])\n",
    "# don't forget to save the changes\n",
    "connection.commit()"
   ]
  },
  {
   "cell_type": "code",
   "execution_count": null,
   "id": "9353bd66-a4cf-44e5-b61c-ebf88fec76d2",
   "metadata": {},
   "outputs": [],
   "source": [
    "cursor.execute('SELECT * FROM book_sales;')\n",
    "cursor.fetchall()"
   ]
  },
  {
   "cell_type": "code",
   "execution_count": null,
   "id": "5d77c059-e63e-43c3-bbdd-b41e59b03bd2",
   "metadata": {},
   "outputs": [],
   "source": [
    "connection.close()"
   ]
  },
  {
   "cell_type": "markdown",
   "id": "0b7d696c-ea1f-46e3-829d-2d16dd552bdf",
   "metadata": {},
   "source": [
    "## SQLAlchemy"
   ]
  },
  {
   "cell_type": "code",
   "execution_count": null,
   "id": "8200bb5a-5773-4c8e-a013-2498f8b518b1",
   "metadata": {},
   "outputs": [],
   "source": [
    "from sqlalchemy import create_engine\n",
    "engine = create_engine('sqlite:///book_sales.db')\n",
    "connection = engine.connect()"
   ]
  },
  {
   "cell_type": "code",
   "execution_count": null,
   "id": "6c6db22d-86c5-42ce-9ff1-72a6ab5edb82",
   "metadata": {},
   "outputs": [],
   "source": [
    "result = connection.execute(\"select * from book_sales\")\n",
    "result"
   ]
  },
  {
   "cell_type": "code",
   "execution_count": null,
   "id": "27a3992d-a4a7-45ed-9bc9-1e22911c9e81",
   "metadata": {},
   "outputs": [],
   "source": [
    "list(result)"
   ]
  },
  {
   "cell_type": "code",
   "execution_count": null,
   "id": "7f34a05e-f0ca-48bf-bf29-266f9cefce88",
   "metadata": {},
   "outputs": [],
   "source": [
    "for row in result:\n",
    "    print(row['date'])"
   ]
  },
  {
   "cell_type": "code",
   "execution_count": null,
   "id": "533670f4-5c08-4b64-9cf0-ad5fe3711101",
   "metadata": {},
   "outputs": [],
   "source": [
    "result = connection.execute(\"select * from book_sales\")\n",
    "for row in result:\n",
    "    print(row['date'])"
   ]
  },
  {
   "cell_type": "code",
   "execution_count": null,
   "id": "c8ea055c-8564-44a3-baf4-daec7d4ce106",
   "metadata": {},
   "outputs": [],
   "source": [
    "# be sure to close the connection when finished\n",
    "connection.close()"
   ]
  },
  {
   "cell_type": "code",
   "execution_count": null,
   "id": "b0a90533-678b-4334-9752-fe32f943abc4",
   "metadata": {},
   "outputs": [],
   "source": [
    "# we can also use the with clause to automatically close the connection\n",
    "with engine.connect() as connection:\n",
    "    result = connection.execute(\"select * from book_sales\")\n",
    "    for row in result:\n",
    "        print(row)"
   ]
  },
  {
   "cell_type": "code",
   "execution_count": null,
   "id": "73db1184-86b6-4f67-9bc5-02d9f8092696",
   "metadata": {},
   "outputs": [],
   "source": [
    "connection.closed"
   ]
  },
  {
   "cell_type": "code",
   "execution_count": null,
   "id": "d9a0dd7b-19ec-488e-a90a-cf61e27ada7e",
   "metadata": {},
   "outputs": [],
   "source": [
    "# the connection is closed from the 'with' statement, so we can't use it\n",
    "# notice in the middle and at the bottom of the error, it says 'This Connection is closed'\n",
    "result = connection.execute(\"select * from book_sales\")"
   ]
  },
  {
   "cell_type": "code",
   "execution_count": null,
   "id": "a22db8c1-9629-4aeb-9507-d76f24d94dbc",
   "metadata": {},
   "outputs": [],
   "source": [
    "from sqlalchemy import MetaData, Table\n",
    "\n",
    "metadata = MetaData(engine)\n",
    "book_sales = Table('book_sales', metadata, autoload=True)\n",
    "conn = engine.connect()"
   ]
  },
  {
   "cell_type": "code",
   "execution_count": null,
   "id": "9e9f8d7b-ff79-48f3-88ca-c6c5a58e69ce",
   "metadata": {},
   "outputs": [],
   "source": [
    "res = conn.execute(book_sales.select())\n",
    "for r in res:\n",
    "    print(r)"
   ]
  },
  {
   "cell_type": "code",
   "execution_count": null,
   "id": "7ba3d93b-b3f6-4c21-8dfa-6a3ca0d9409c",
   "metadata": {},
   "outputs": [],
   "source": [
    "ins = book_sales.insert().values(book_title='machine learining', price='10.99')\n",
    "conn.execute(ins)"
   ]
  },
  {
   "cell_type": "code",
   "execution_count": null,
   "id": "6f418386-6f77-4c8e-a5d4-48d731eab781",
   "metadata": {
    "tags": []
   },
   "outputs": [],
   "source": [
    "res = conn.execute(book_sales.select())\n",
    "for r in res:\n",
    "    print(r)"
   ]
  }
 ],
 "metadata": {
  "kernelspec": {
   "display_name": "Python 3 (ipykernel)",
   "language": "python",
   "name": "python3"
  },
  "language_info": {
   "codemirror_mode": {
    "name": "ipython",
    "version": 3
   },
   "file_extension": ".py",
   "mimetype": "text/x-python",
   "name": "python",
   "nbconvert_exporter": "python",
   "pygments_lexer": "ipython3",
   "version": "3.9.16"
  }
 },
 "nbformat": 4,
 "nbformat_minor": 5
}
