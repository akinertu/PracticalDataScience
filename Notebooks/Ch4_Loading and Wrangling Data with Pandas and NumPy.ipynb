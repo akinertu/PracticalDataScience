{
 "cells": [
  {
   "cell_type": "markdown",
   "id": "75eecdfe-9da4-4f75-b388-fd6bdd8dc958",
   "metadata": {
    "tags": []
   },
   "source": [
    "### Exploratory Data Analysis (EDA)"
   ]
  },
  {
   "cell_type": "raw",
   "id": "bb9b3c36-6760-458d-a412-aa4bbabdd31a",
   "metadata": {},
   "source": [
    "EDA checklist:\n",
    "• Examine the top and bottom of the data\n",
    "• Examine the data's dimensions\n",
    "• Examine the datatypes and missing values\n",
    "• Investigate statistical properties of the data\n",
    "• Create plots of the data\n",
    "\n",
    "Cleaning Data\n",
    "• Removing irrelevant data\n",
    "• Dealing with missing values (filling in or dropping them)\n",
    "• Dealing with outliers\n",
    "• Dealing with duplicate values\n",
    "• Ensuring datatypes are correct\n",
    "• Standardizing data formats (e.g. mismatched capitalization, converting units)\n",
    "\n",
    "Dealing with missing values\n",
    "• Leave the missing values as-is\n",
    "• Drop the data\n",
    "• Fill with a specific value\n",
    "• Replace with the mean, median, or mode\n",
    "• Use machine learning to replace missing values"
   ]
  },
  {
   "cell_type": "markdown",
   "id": "4aded46d-6c38-4826-a356-30651b8180f8",
   "metadata": {
    "tags": []
   },
   "source": [
    "### Loading Data"
   ]
  },
  {
   "cell_type": "code",
   "execution_count": null,
   "id": "4196d3d5-70e7-4446-8f8a-936067391713",
   "metadata": {},
   "outputs": [],
   "source": [
    "!pygmentize -l text data/itunes_data.csv"
   ]
  },
  {
   "cell_type": "code",
   "execution_count": null,
   "id": "fc83a499-2448-442f-82ef-3434e696a2ca",
   "metadata": {},
   "outputs": [],
   "source": [
    "import pandas as pd"
   ]
  },
  {
   "cell_type": "code",
   "execution_count": null,
   "id": "b36fc319-fdee-44ab-ad9f-a05db07f0eeb",
   "metadata": {},
   "outputs": [],
   "source": [
    "csv_df = pd.read_csv('data/itunes_data.csv')\n",
    "excel_df = pd.read_excel('data/itunes_data.xlsx', engine='openpyxl')\n",
    "\n",
    "from sqlalchemy import create_engine\n",
    "engine = create_engine('sqlite:///data/chinook.db')\n",
    "query = \"\"\"SELECT tracks.name as Track, tracks.composer, tracks.milliseconds,\n",
    "tracks.bytes, tracks.unitprice,\n",
    "genres.name as Genre,\n",
    "albums.title as Album,\n",
    "artists.name as Artist\n",
    "FROM tracks\n",
    "JOIN genres ON tracks.genreid = genres.genreid\n",
    "JOIN albums ON tracks.albumid = albums.albumid\n",
    "JOIN artists ON albums.artistid = artists.artistid;\n",
    "\"\"\"\n",
    "with engine.connect() as connection:\n",
    "    sql_df = pd.read_sql_query(query, connection)"
   ]
  },
  {
   "cell_type": "code",
   "execution_count": null,
   "id": "98e9e2a6-0a6a-4b43-85d2-bdb9afb0f002",
   "metadata": {},
   "outputs": [],
   "source": [
    "print(sql_df.columns, csv_df.columns, excel_df.columns) "
   ]
  },
  {
   "cell_type": "code",
   "execution_count": null,
   "id": "616f6222-3e5b-4053-b4a8-cc9c023d8660",
   "metadata": {
    "tags": []
   },
   "outputs": [],
   "source": [
    "itunes_df = pd.concat([csv_df, excel_df, sql_df]) #combine DataFrames into one\n",
    "print(itunes_df.shape) # dimension of dataframe"
   ]
  },
  {
   "cell_type": "code",
   "execution_count": null,
   "id": "96e3e24b-e240-41e2-999e-1c06f5bd7af7",
   "metadata": {},
   "outputs": [],
   "source": [
    "itunes_df.head() #to look at the top of the data"
   ]
  },
  {
   "cell_type": "code",
   "execution_count": null,
   "id": "49174666-314f-4f27-84a3-0d3a2a65e4d2",
   "metadata": {},
   "outputs": [],
   "source": [
    "itunes_df.info() #info about the data"
   ]
  },
  {
   "cell_type": "code",
   "execution_count": null,
   "id": "d61dc7ba-c156-4a5a-8634-3a138bba2e47",
   "metadata": {},
   "outputs": [],
   "source": [
    "itunes_df.isna().sum() #gives us the counts of missing values "
   ]
  },
  {
   "cell_type": "code",
   "execution_count": null,
   "id": "9e9f6aad-d7e5-4570-88de-dd42906b504d",
   "metadata": {},
   "outputs": [],
   "source": [
    "itunes_df.describe() #statistical properties of the data"
   ]
  },
  {
   "cell_type": "code",
   "execution_count": null,
   "id": "620fc9db-95ff-4edf-b825-e28d4b2dc582",
   "metadata": {},
   "outputs": [],
   "source": [
    "itunes_df['Genre'].value_counts()"
   ]
  },
  {
   "cell_type": "code",
   "execution_count": null,
   "id": "e3e00abe-f5fa-4fa8-9c60-5beac5b858c9",
   "metadata": {},
   "outputs": [],
   "source": [
    "itunes_df['Artist'].unique() # return an array of all unique values"
   ]
  },
  {
   "cell_type": "code",
   "execution_count": null,
   "id": "72a55481-e583-4dd9-906f-0e9b5bb44dc8",
   "metadata": {
    "tags": []
   },
   "outputs": [],
   "source": [
    "import matplotlib.pyplot as plt\n",
    "itunes_df['Milliseconds'].describe()\n",
    "itunes_df['Milliseconds'].hist(bins=20)\n",
    "plt.show()"
   ]
  },
  {
   "cell_type": "code",
   "execution_count": null,
   "id": "862fd62b-7480-4c75-bae5-41436b6c9f00",
   "metadata": {},
   "outputs": [],
   "source": [
    "itunes_df['Milliseconds'].describe() #get statistics"
   ]
  },
  {
   "cell_type": "code",
   "execution_count": null,
   "id": "7d5a2f56-c4ad-470b-b070-75f283e86377",
   "metadata": {},
   "outputs": [],
   "source": [
    "itunes_df.plot.scatter(x='Milliseconds', y='Bytes')\n",
    "plt.show()"
   ]
  },
  {
   "cell_type": "code",
   "execution_count": null,
   "id": "ff8c34c3-b4f3-4a49-94a4-2d5f4c0d692c",
   "metadata": {},
   "outputs": [],
   "source": [
    "itunes_df['Genre'].value_counts().plot.bar()\n",
    "plt.show()"
   ]
  },
  {
   "cell_type": "markdown",
   "id": "586bf8e9-fb09-45cd-8be2-8f2e1c48f203",
   "metadata": {
    "tags": []
   },
   "source": [
    "### Cleaning & Filtering Data"
   ]
  },
  {
   "cell_type": "code",
   "execution_count": null,
   "id": "4861fbc1-46f9-4a65-8aff-7198742e2a03",
   "metadata": {
    "tags": []
   },
   "outputs": [],
   "source": [
    "# Ensuring datatypes are correct\n",
    "print(itunes_df.shape)\n",
    "itunes_df['Milliseconds'] = itunes_df['Milliseconds'].astype('int')\n",
    "print(itunes_df.shape)"
   ]
  },
  {
   "cell_type": "code",
   "execution_count": null,
   "id": "520c49eb-a510-4f2b-97db-fb5bae8c47c8",
   "metadata": {},
   "outputs": [],
   "source": [
    "# milliseconds converted minutes and added as column to df\n",
    "itunes_df['Minutes'] = itunes_df['Milliseconds']/60000 \n",
    "print(itunes_df.shape)"
   ]
  },
  {
   "cell_type": "code",
   "execution_count": null,
   "id": "8f85d1a6-030a-44c4-a762-29a7ed732463",
   "metadata": {
    "tags": []
   },
   "outputs": [],
   "source": [
    "# only music genre is filtered\n",
    "print(itunes_df[itunes_df['Minutes'] > 20]['Genre'].unique()) #show genres longer than 20 mins\n",
    "itunes_df[(itunes_df['Minutes'] > 26) & (itunes_df['Genre'] == 'Rock')]['Minutes'].min()\n",
    "only_music = itunes_df[~itunes_df['Genre'].isin(['Drama', 'TV Shows', 'Sci Fi & Fantasy', 'Science Fiction', 'Comedy'])]\n",
    "only_music.shape"
   ]
  },
  {
   "cell_type": "code",
   "execution_count": null,
   "id": "22535110-c57d-4f1b-9a8c-efbc8eb0b48b",
   "metadata": {
    "tags": []
   },
   "outputs": [],
   "source": [
    "# filling NA values in composer column\n",
    "unknown_composer = only_music[only_music['Composer'].isna()].copy()\n",
    "print(unknown_composer.shape)\n",
    "only_music.dropna(inplace=True, subset= 'Composer')\n",
    "print(only_music.shape)\n",
    "unknown_composer.loc[unknown_composer['Composer'].isna(), 'Composer'] = 'Unknown'\n",
    "unknown_composer.head()"
   ]
  },
  {
   "cell_type": "code",
   "execution_count": null,
   "id": "bfffca92-c855-4769-a035-9bd108c13cb7",
   "metadata": {
    "tags": []
   },
   "outputs": [],
   "source": [
    "only_music['Minutes'].hist(bins=20)\n",
    "plt.show()"
   ]
  },
  {
   "cell_type": "code",
   "execution_count": null,
   "id": "f23dc61c-7b68-49aa-a402-14f5b0fb031f",
   "metadata": {},
   "outputs": [],
   "source": [
    "itunes_df.loc[0]"
   ]
  },
  {
   "cell_type": "code",
   "execution_count": null,
   "id": "c2026b28-d395-43d1-b1cf-fe62d3002946",
   "metadata": {
    "tags": []
   },
   "outputs": [],
   "source": [
    "### create missing values in Bytes column\n",
    "import numpy as np\n",
    "itunes_df.loc[0, 'Bytes'] = np.nan\n",
    "itunes_df.loc[0]"
   ]
  },
  {
   "cell_type": "code",
   "execution_count": null,
   "id": "7741f820-6da5-4567-9d3c-aa8b6274e7c3",
   "metadata": {
    "tags": []
   },
   "outputs": [],
   "source": [
    "### KNN (k-nearest neighbors) imputation\n",
    "from sklearn.impute import KNNImputer\n",
    "imputer = KNNImputer()\n",
    "imputed = imputer.fit_transform(itunes_df [['Milliseconds', 'Bytes', 'UnitPrice']])\n",
    "itunes_df['Bytes'] = imputed[:, 1]\n",
    "itunes_df.loc[0]"
   ]
  },
  {
   "cell_type": "code",
   "execution_count": null,
   "id": "2214ee7d-d86c-49b0-a365-42038fc5a82f",
   "metadata": {},
   "outputs": [],
   "source": [
    "def remove_outliers(df, column):\n",
    "    q1 = df[column].quantile(0.25)\n",
    "    q3 = df[column].quantile(0.75)\n",
    "    iqr = q3 - q1\n",
    "    upper_boundary = q3 + 1.5 * iqr\n",
    "    lower_boundary = q1 - 1.5 * iqr\n",
    "    new_df = df.loc[(df[column] > lower_boundary) & \\\n",
    "                        (df[column] < upper_boundary)]\n",
    "    return new_df\n",
    "itunes_df_clean = remove_outliers(itunes_df, 'Milliseconds')\n",
    "itunes_df_clean.shape"
   ]
  },
  {
   "cell_type": "code",
   "execution_count": null,
   "id": "3e019327-20c4-412b-a768-179af8287194",
   "metadata": {},
   "outputs": [],
   "source": [
    "itunes_df_clean['Minutes'].hist(bins=20)\n",
    "plt.show()\n",
    "itunes_df_clean.shape"
   ]
  },
  {
   "cell_type": "code",
   "execution_count": null,
   "id": "07f6add8-fad2-4bee-abf2-e948787612c7",
   "metadata": {},
   "outputs": [],
   "source": [
    "itunes_df_clean.duplicated(subset = 'Track').sum()"
   ]
  },
  {
   "cell_type": "code",
   "execution_count": null,
   "id": "76d001d0-4e65-4f24-8bc8-89c0b2157ada",
   "metadata": {},
   "outputs": [],
   "source": [
    "itunes_df_unique = itunes_df_clean.drop_duplicates(subset = 'Track')"
   ]
  },
  {
   "cell_type": "code",
   "execution_count": null,
   "id": "a5431aaa-636e-4615-8de9-1730206ac128",
   "metadata": {
    "tags": []
   },
   "outputs": [],
   "source": [
    "itunes_df_unique['Minutes'].hist(bins=20)\n",
    "plt.show()\n",
    "itunes_df_unique.shape"
   ]
  },
  {
   "cell_type": "code",
   "execution_count": null,
   "id": "91e70fd9-17ad-4187-97c3-b73f3d0aadaf",
   "metadata": {},
   "outputs": [],
   "source": [
    "# Writing DataFrames to disk\n",
    "itunes_df.to_csv('data/unique_itunes_data.csv', index=False)"
   ]
  },
  {
   "cell_type": "markdown",
   "id": "6ab861ef-f22e-4f89-b259-5b8603f88401",
   "metadata": {
    "tags": []
   },
   "source": [
    "### Wrangling and analyzing"
   ]
  },
  {
   "cell_type": "code",
   "execution_count": null,
   "id": "48eb6ba8-c1df-47fe-8445-0d447f870d1c",
   "metadata": {},
   "outputs": [],
   "source": [
    "btc_df = pd.read_csv('data/bitcoin_price.csv')\n",
    "btc_df.head()"
   ]
  },
  {
   "cell_type": "code",
   "execution_count": null,
   "id": "53eb02af-7fcd-40b2-ba1b-3b06bdd447db",
   "metadata": {},
   "outputs": [],
   "source": [
    "btc_df['symbol'].unique() #examining unique values:"
   ]
  },
  {
   "cell_type": "code",
   "execution_count": null,
   "id": "59f35c42-3514-48d9-b44c-91ef4a1fff57",
   "metadata": {},
   "outputs": [],
   "source": [
    "# delete symbol column\n",
    "btc_df.drop('symbol', axis=1, inplace=True)\n",
    "btc_df.head()"
   ]
  },
  {
   "cell_type": "code",
   "execution_count": null,
   "id": "472bcfe6-c2e5-4f8c-a09d-094794ab2e5b",
   "metadata": {},
   "outputs": [],
   "source": [
    "#convert the time column to a pandas datetime\n",
    "btc_df['time'] = pd.to_datetime(btc_df['time'], unit='ms')\n",
    "btc_df.head()"
   ]
  },
  {
   "cell_type": "code",
   "execution_count": null,
   "id": "2c80e69a-819c-4e42-862c-314837583b3e",
   "metadata": {},
   "outputs": [],
   "source": [
    "btc_df.set_index('time', inplace=True)\n",
    "btc_df.head()"
   ]
  },
  {
   "cell_type": "code",
   "execution_count": null,
   "id": "b67703cb-c42f-4b42-91b5-6cb8681abf71",
   "metadata": {},
   "outputs": [],
   "source": [
    "btc_df.loc['2019']"
   ]
  },
  {
   "cell_type": "code",
   "execution_count": null,
   "id": "a110b261-7346-4aae-978a-7f2f7dbb8c73",
   "metadata": {},
   "outputs": [],
   "source": [
    "btc_df['close'].plot(logy=True)"
   ]
  },
  {
   "cell_type": "markdown",
   "id": "e798c125-a668-44d8-97ed-cd7de2f9b55f",
   "metadata": {
    "tags": []
   },
   "source": [
    "### Numpy"
   ]
  },
  {
   "cell_type": "code",
   "execution_count": null,
   "id": "9d6f1ea1-88a1-4c48-8e47-efc7433011c3",
   "metadata": {},
   "outputs": [],
   "source": [
    "import numpy as np"
   ]
  },
  {
   "cell_type": "code",
   "execution_count": null,
   "id": "7d3a50f8-98f6-454c-9a3c-c1439fbd27ab",
   "metadata": {},
   "outputs": [],
   "source": [
    "close_list = btc_df['close'].to_list()\n",
    "close_array = np.array(close_list)"
   ]
  },
  {
   "cell_type": "code",
   "execution_count": null,
   "id": "3d2d2c68-7cda-4da2-84c2-c27e71d45217",
   "metadata": {},
   "outputs": [],
   "source": [
    "%timeit kd_close = close_array / 1000"
   ]
  },
  {
   "cell_type": "code",
   "execution_count": null,
   "id": "e0a56763-7c30-4579-ace9-6862e4141f93",
   "metadata": {},
   "outputs": [],
   "source": [
    "%timeit kd_close_list = [c / 1000 for c in close_list]"
   ]
  },
  {
   "cell_type": "code",
   "execution_count": null,
   "id": "8200e2f6-7c3e-4237-8d76-c717b2e73546",
   "metadata": {},
   "outputs": [],
   "source": [
    "btc_df['market_cap'] = btc_df['close'] * btc_df['volume']"
   ]
  }
 ],
 "metadata": {
  "kernelspec": {
   "display_name": "Python 3 (ipykernel)",
   "language": "python",
   "name": "python3"
  },
  "language_info": {
   "codemirror_mode": {
    "name": "ipython",
    "version": 3
   },
   "file_extension": ".py",
   "mimetype": "text/x-python",
   "name": "python",
   "nbconvert_exporter": "python",
   "pygments_lexer": "ipython3",
   "version": "3.9.16"
  }
 },
 "nbformat": 4,
 "nbformat_minor": 5
}
