{
 "cells": [
  {
   "cell_type": "code",
   "execution_count": null,
   "id": "4196d3d5-70e7-4446-8f8a-936067391713",
   "metadata": {},
   "outputs": [],
   "source": [
    "!pygmentize -l text data/itunes_data.csv"
   ]
  },
  {
   "cell_type": "code",
   "execution_count": null,
   "id": "fc83a499-2448-442f-82ef-3434e696a2ca",
   "metadata": {},
   "outputs": [],
   "source": [
    "import pandas as pd"
   ]
  },
  {
   "cell_type": "code",
   "execution_count": null,
   "id": "b36fc319-fdee-44ab-ad9f-a05db07f0eeb",
   "metadata": {},
   "outputs": [],
   "source": [
    "csv_df = pd.read_csv('data/itunes_data.csv')\n",
    "excel_df = pd.read_excel('data/itunes_data.xlsx', engine='openpyxl')\n",
    "\n",
    "from sqlalchemy import create_engine\n",
    "engine = create_engine('sqlite:///data/chinook.db')\n",
    "query = \"\"\"SELECT tracks.name as Track, tracks.composer, tracks.milliseconds,\n",
    "tracks.bytes, tracks.unitprice,\n",
    "genres.name as Genre,\n",
    "albums.title as Album,\n",
    "artists.name as Artist\n",
    "FROM tracks\n",
    "JOIN genres ON tracks.genreid = genres.genreid\n",
    "JOIN albums ON tracks.albumid = albums.albumid\n",
    "JOIN artists ON albums.artistid = artists.artistid;\n",
    "\"\"\"\n",
    "with engine.connect() as connection:\n",
    "    sql_df = pd.read_sql_query(query, connection)"
   ]
  },
  {
   "cell_type": "code",
   "execution_count": null,
   "id": "98e9e2a6-0a6a-4b43-85d2-bdb9afb0f002",
   "metadata": {},
   "outputs": [],
   "source": [
    "print(sql_df.columns, csv_df.columns, excel_df.columns) "
   ]
  },
  {
   "cell_type": "code",
   "execution_count": null,
   "id": "616f6222-3e5b-4053-b4a8-cc9c023d8660",
   "metadata": {},
   "outputs": [],
   "source": [
    "itunes_df = pd.concat([csv_df, excel_df, sql_df]) #combine DataFrames into one\n",
    "print(itunes_df.shape) # dimension of dataframe"
   ]
  },
  {
   "cell_type": "code",
   "execution_count": null,
   "id": "96e3e24b-e240-41e2-999e-1c06f5bd7af7",
   "metadata": {},
   "outputs": [],
   "source": [
    "itunes_df.head() #to look at the top of the data"
   ]
  },
  {
   "cell_type": "code",
   "execution_count": null,
   "id": "49174666-314f-4f27-84a3-0d3a2a65e4d2",
   "metadata": {},
   "outputs": [],
   "source": [
    "itunes_df.info() #info about the data"
   ]
  },
  {
   "cell_type": "code",
   "execution_count": null,
   "id": "d61dc7ba-c156-4a5a-8634-3a138bba2e47",
   "metadata": {},
   "outputs": [],
   "source": [
    "itunes_df.isna().sum() #gives us the counts of missing values "
   ]
  },
  {
   "cell_type": "code",
   "execution_count": null,
   "id": "9e9f6aad-d7e5-4570-88de-dd42906b504d",
   "metadata": {},
   "outputs": [],
   "source": [
    "itunes_df.describe() #statistical properties of the data"
   ]
  },
  {
   "cell_type": "code",
   "execution_count": null,
   "id": "620fc9db-95ff-4edf-b825-e28d4b2dc582",
   "metadata": {},
   "outputs": [],
   "source": [
    "itunes_df['Genre'].value_counts()"
   ]
  },
  {
   "cell_type": "code",
   "execution_count": null,
   "id": "e3e00abe-f5fa-4fa8-9c60-5beac5b858c9",
   "metadata": {},
   "outputs": [],
   "source": [
    "itunes_df['Artist'].unique() # return an array of all unique values"
   ]
  },
  {
   "cell_type": "code",
   "execution_count": null,
   "id": "72a55481-e583-4dd9-906f-0e9b5bb44dc8",
   "metadata": {},
   "outputs": [],
   "source": [
    "import matplotlib.pyplot as plt\n",
    "itunes_df['Minutes'] = itunes_df['Milliseconds']/60000\n",
    "itunes_df['Minutes'].describe()\n",
    "itunes_df['Minutes'].hist(bins=20)\n",
    "plt.show()\n",
    "itunes_df['Minutes'].describe()"
   ]
  },
  {
   "cell_type": "code",
   "execution_count": null,
   "id": "7d5a2f56-c4ad-470b-b070-75f283e86377",
   "metadata": {},
   "outputs": [],
   "source": [
    "itunes_df.plot.scatter(x='Minutes', y='Bytes')\n",
    "plt.show()"
   ]
  },
  {
   "cell_type": "code",
   "execution_count": null,
   "id": "ff8c34c3-b4f3-4a49-94a4-2d5f4c0d692c",
   "metadata": {},
   "outputs": [],
   "source": [
    "itunes_df['Genre'].value_counts().plot.bar()\n",
    "plt.show()"
   ]
  },
  {
   "cell_type": "markdown",
   "id": "586bf8e9-fb09-45cd-8be2-8f2e1c48f203",
   "metadata": {},
   "source": [
    "### Cleaning Data"
   ]
  },
  {
   "cell_type": "code",
   "execution_count": null,
   "id": "8f85d1a6-030a-44c4-a762-29a7ed732463",
   "metadata": {},
   "outputs": [],
   "source": [
    "print(itunes_df[itunes_df['Minutes'] > 20]['Genre'].unique()) #genres longer than 20 mins\n",
    "itunes_df[(itunes_df['Minutes'] > 26) & (itunes_df['Genre'] == 'Rock')]['Minutes'].min()\n",
    "only_music = itunes_df[~itunes_df['Genre'].isin(['Drama', 'TV Shows', 'Sci Fi & Fantasy', 'Science Fiction', 'Comedy'])]\n",
    "only_music.shape"
   ]
  },
  {
   "cell_type": "code",
   "execution_count": null,
   "id": "22535110-c57d-4f1b-9a8c-efbc8eb0b48b",
   "metadata": {},
   "outputs": [],
   "source": [
    "unknown_composer = only_music[only_music['Composer'].isna()].copy()\n",
    "print(unknown_composer.shape)\n",
    "only_music.dropna(inplace=True, subset= 'Composer')\n",
    "print(only_music.shape)\n",
    "unknown_composer.loc[unknown_composer['Composer'].isna(), 'Composer'] = 'Unknown'\n",
    "unknown_composer"
   ]
  },
  {
   "cell_type": "code",
   "execution_count": null,
   "id": "14f87761-a65a-43f9-ac4d-2e96049a7ff8",
   "metadata": {},
   "outputs": [],
   "source": [
    "### KNN (k-nearest neighbors) imputation\n",
    "import numpy as np\n",
    "itunes_df.loc[0, 'Bytes'] = np.nan\n",
    "from sklearn.impute import KNNImputer\n",
    "imputer = KNNImputer()\n",
    "imputed = imputer.fit_transform(itunes_df [['Milliseconds', 'Bytes', \n",
    "'UnitPrice']])\n",
    "itunes_df['Bytes'] = imputed[:, 1]"
   ]
  },
  {
   "cell_type": "code",
   "execution_count": null,
   "id": "2214ee7d-d86c-49b0-a365-42038fc5a82f",
   "metadata": {},
   "outputs": [],
   "source": [
    "def remove_outliers(df, column):\n",
    "    q1 = df[column].quantile(0.25)\n",
    "    q3 = df[column].quantile(0.75)\n",
    "    iqr = q3 - q1\n",
    "    upper_boundary = q3 + 1.5 * iqr\n",
    "    lower_boundary = q1 - 1.5 * iqr\n",
    "    new_df = df.loc[(df[column] > lower_boundary) & \\\n",
    "                        (df[column] < upper_boundary)]\n",
    "    return new_df\n",
    "itunes_df_clean = remove_outliers(itunes_df, 'Milliseconds')"
   ]
  }
 ],
 "metadata": {
  "kernelspec": {
   "display_name": "Python 3 (ipykernel)",
   "language": "python",
   "name": "python3"
  },
  "language_info": {
   "codemirror_mode": {
    "name": "ipython",
    "version": 3
   },
   "file_extension": ".py",
   "mimetype": "text/x-python",
   "name": "python",
   "nbconvert_exporter": "python",
   "pygments_lexer": "ipython3",
   "version": "3.9.16"
  }
 },
 "nbformat": 4,
 "nbformat_minor": 5
}
