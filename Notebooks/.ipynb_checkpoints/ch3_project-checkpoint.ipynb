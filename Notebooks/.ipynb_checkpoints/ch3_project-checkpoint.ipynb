{
 "cells": [
  {
   "cell_type": "markdown",
   "id": "05104060-55af-4144-8bf8-a0272a5f6e2b",
   "metadata": {
    "jp-MarkdownHeadingCollapsed": true,
    "tags": []
   },
   "source": [
    "# Project 1\n",
    "# Load the bitcoin_price.json data file by opening the file using the built-in json module.\n",
    "# Save this data to a SQLite database.\n",
    "# Query the database using sqlite3 for the following:\n",
    "# The earliest and latest dates (hint: the MAX and MIN aggregate functions will help)\n",
    "# The maximum price for each year (grouped by year) and sorted by year"
   ]
  },
  {
   "cell_type": "code",
   "execution_count": null,
   "id": "71017a93-067e-4ad7-ab91-a020557a47b6",
   "metadata": {},
   "outputs": [],
   "source": [
    "import json\n",
    "with open('Notebooks/Data/bitcoin_price.json') as f:\n",
    "    data = json.load(f) #list of dictionaries"
   ]
  },
  {
   "cell_type": "code",
   "execution_count": null,
   "id": "938309f5-f5a3-4bb4-993c-59651d023b81",
   "metadata": {},
   "outputs": [],
   "source": [
    "data_list = []\n",
    "for d in data:\n",
    "    data_list.append([d['time'], d['open'], d['close'], d['high'], d['low'], d['volume']])"
   ]
  },
  {
   "cell_type": "code",
   "execution_count": null,
   "id": "f715f73b-5954-4725-92a2-176e3284e26c",
   "metadata": {},
   "outputs": [],
   "source": [
    "import sqlite3\n",
    "db = sqlite3.connect('Notebooks/Data/bitcoin_data.sql')\n",
    "cursor = db.cursor()\n",
    "cursor.execute('CREATE TABLE bitcoin_price (time INTEGER, open REAL, close REAL, high REAL, low REAL, volume REAL);')\n",
    "cursor.executemany('INSERT INTO bitcoin_price VALUES (?, ?, ?, ?, ?, ?)', data_list)\n",
    "db.commit()\n",
    "db.close()"
   ]
  },
  {
   "cell_type": "code",
   "execution_count": null,
   "id": "dcc2017a-d986-43ed-8de3-9fba09786d36",
   "metadata": {},
   "outputs": [],
   "source": [
    "db = sqlite3.connect('Notebooks/Data/bitcoin_data.sql')\n",
    "cursor = db.cursor()\n",
    "max_time = cursor.execute('SELECT MAX(time) FROM bitcoin_price;').fetchone()[0]\n",
    "min_time = cursor.execute('SELECT MIN(time) FROM bitcoin_price;').fetchone()[0]"
   ]
  },
  {
   "cell_type": "code",
   "execution_count": null,
   "id": "4070307d-4e2f-4d31-99ce-11163c9d492c",
   "metadata": {},
   "outputs": [],
   "source": [
    "import datetime\n",
    "datetime.datetime.fromtimestamp(max_time // 1000)\n",
    "datetime.datetime.fromtimestamp(min_time // 1000)"
   ]
  },
  {
   "cell_type": "code",
   "execution_count": null,
   "id": "3e28aba9-57de-41fe-8572-49bcc698b71e",
   "metadata": {},
   "outputs": [],
   "source": [
    "query = \"\"\"\n",
    "SELECT MAX(close), STRFTIME('%Y', DATE(ROUND(time / 1000), 'unixepoch')) as year\n",
    "FROM bitcoin_price\n",
    "GROUP BY year\n",
    "ORDER BY year;\n",
    "\"\"\"\n",
    "max_price = cursor.execute(query)\n",
    "max_price.fetchall()"
   ]
  },
  {
   "cell_type": "code",
   "execution_count": null,
   "id": "79b5ba1f-37ab-42f9-93e7-33819b0f5a10",
   "metadata": {},
   "outputs": [],
   "source": [
    "db.close()"
   ]
  },
  {
   "cell_type": "markdown",
   "id": "c22750dc-7b09-410f-99d3-46e3c05e8190",
   "metadata": {
    "tags": []
   },
   "source": [
    "# Project 2\n",
    "# Connect to the chinook.db sqlite3 database with SQLAlchemy.\n",
    "# Find the genre names with the longest average song length."
   ]
  },
  {
   "cell_type": "code",
   "execution_count": 6,
   "id": "a392b3b1-2d59-4963-ac29-4ea0ccc473af",
   "metadata": {},
   "outputs": [
    {
     "name": "stdout",
     "output_type": "stream",
     "text": [
      "(2911.7830384615386, 'Sci Fi & Fantasy')\n",
      "(2625.549076923077, 'Science Fiction')\n",
      "(2575.28378125, 'Drama')\n",
      "(2145.041021505376, 'TV Shows')\n",
      "(1585.263705882353, 'Comedy')\n",
      "(309.74944385026737, 'Metal')\n",
      "(302.9858, 'Electronica/Dance')\n",
      "(297.4529285714286, 'Heavy Metal')\n",
      "(293.86756756756756, 'Classical')\n",
      "(291.75537692307694, 'Jazz')\n",
      "(283.9100431765613, 'Rock')\n",
      "(270.35977777777777, 'Blues')\n",
      "(264.05852500000003, 'Alternative')\n",
      "(247.17775862068964, 'Reggae')\n",
      "(244.37088372093024, 'Soundtrack')\n",
      "(234.35384939759035, 'Alternative & Punk')\n",
      "(232.85926252158893, 'Latin')\n",
      "(229.03410416666665, 'Pop')\n",
      "(224.92382142857142, 'World')\n",
      "(220.0668524590164, 'R&B/Soul')\n",
      "(219.59, 'Bossa Nova')\n",
      "(189.16420833333333, 'Easy Listening')\n",
      "(178.1762857142857, 'Hip Hop/Rap')\n",
      "(174.813, 'Opera')\n",
      "(134.6435, 'Rock And Roll')\n"
     ]
    }
   ],
   "source": [
    "from sqlalchemy import create_engine\n",
    "engine = create_engine('sqlite:///Data/chinook.db')\n",
    "connection = engine.connect()\n",
    "query = \"\"\"\n",
    "SELECT AVG(tracks.Milliseconds) /1000, genres.Name\n",
    "FROM tracks\n",
    "JOIN genres\n",
    "ON tracks.genreid = genres.genreid\n",
    "GROUP BY tracks.genreid\n",
    "ORDER BY AVG(tracks.Milliseconds) DESC;\"\"\"\n",
    "result = connection.execute(query)\n",
    "for row in result:\n",
    "    print(row)    \n",
    "connection.close()"
   ]
  }
 ],
 "metadata": {
  "kernelspec": {
   "display_name": "Python 3 (ipykernel)",
   "language": "python",
   "name": "python3"
  },
  "language_info": {
   "codemirror_mode": {
    "name": "ipython",
    "version": 3
   },
   "file_extension": ".py",
   "mimetype": "text/x-python",
   "name": "python",
   "nbconvert_exporter": "python",
   "pygments_lexer": "ipython3",
   "version": "3.9.16"
  }
 },
 "nbformat": 4,
 "nbformat_minor": 5
}
