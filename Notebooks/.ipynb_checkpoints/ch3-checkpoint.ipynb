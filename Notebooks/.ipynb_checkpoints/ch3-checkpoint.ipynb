{
 "cells": [
  {
   "cell_type": "markdown",
   "metadata": {},
   "source": [
    "## Built-in read/write functions"
   ]
  },
  {
   "cell_type": "code",
   "execution_count": null,
   "metadata": {},
   "outputs": [],
   "source": [
    "# create our text file to read\n",
    "with open('textfile.txt', mode='w') as f:\n",
    "    f.writelines(['This is a text file.\\n', 'Now you can read it!'])"
   ]
  },
  {
   "cell_type": "code",
   "execution_count": null,
   "metadata": {},
   "outputs": [],
   "source": [
    "# open a file and read the contents\n",
    "file = open(file='textfile.txt', mode='r')\n",
    "text = file.readlines()\n",
    "text  # remember if our last line is a variable, jupyter notebook will print out that variable"
   ]
  },
  {
   "cell_type": "code",
   "execution_count": null,
   "metadata": {},
   "outputs": [],
   "source": [
    "# this is the file object\n",
    "file"
   ]
  },
  {
   "cell_type": "code",
   "execution_count": null,
   "metadata": {},
   "outputs": [],
   "source": [
    "# the file is 'open' until we close it.\n",
    "file.close()"
   ]
  },
  {
   "cell_type": "code",
   "execution_count": null,
   "metadata": {},
   "outputs": [],
   "source": [
    "# the 'with' context will automatically close the file once we are out of the 'with' section\n",
    "with open(file='textfile.txt', mode='r') as f:\n",
    "    text = f.readlines()\n",
    "\n",
    "text"
   ]
  },
  {
   "cell_type": "code",
   "execution_count": null,
   "metadata": {},
   "outputs": [],
   "source": [
    "# the read function reads the entire file at once\n",
    "with open(file='textfile.txt', mode='r') as f:\n",
    "    text = f.read()\n",
    "\n",
    "print(text)"
   ]
  },
  {
   "cell_type": "code",
   "execution_count": null,
   "metadata": {},
   "outputs": [],
   "source": [
    "# remember we can take a subset of strings like this\n",
    "text[:10]"
   ]
  },
  {
   "cell_type": "code",
   "execution_count": null,
   "metadata": {},
   "outputs": [],
   "source": [
    "# writing to a file\n",
    "# open the file in a text editor to see the results, or read it with Python\n",
    "with open(file='writetest.txt', mode='w') as f:\n",
    "    f.write('testing writing out')"
   ]
  },
  {
   "cell_type": "code",
   "execution_count": null,
   "metadata": {},
   "outputs": [],
   "source": [
    "# writing a list of text to a file\n",
    "# open the file in a text editor or read it through Python to see the results\n",
    "text_lines = ['This is text for testing writing.', 'Now you can write to a file!']\n",
    "with open(file='writetest2.txt', mode='w') as f:\n",
    "    f.writelines(text_lines)"
   ]
  },
  {
   "cell_type": "markdown",
   "metadata": {},
   "source": [
    "## JSON"
   ]
  },
  {
   "cell_type": "code",
   "execution_count": 2,
   "metadata": {},
   "outputs": [],
   "source": [
    "import json\n",
    "data_dictionary = {'books': 12, 'articles': 100, 'subjects': ['math', 'programming', 'data science']}"
   ]
  },
  {
   "cell_type": "code",
   "execution_count": 3,
   "metadata": {},
   "outputs": [
    {
     "name": "stdout",
     "output_type": "stream",
     "text": [
      "<class 'str'>\n"
     ]
    }
   ],
   "source": [
    "json_string = json.dumps(data_dictionary)\n",
    "json_string\n",
    "print(type(json_string))"
   ]
  },
  {
   "cell_type": "code",
   "execution_count": 4,
   "metadata": {},
   "outputs": [
    {
     "name": "stdout",
     "output_type": "stream",
     "text": [
      "<class 'dict'>\n"
     ]
    }
   ],
   "source": [
    "data_dict = json.loads(json_string)\n",
    "data_dict\n",
    "print(type(data_dict))"
   ]
  },
  {
   "cell_type": "code",
   "execution_count": null,
   "metadata": {},
   "outputs": [],
   "source": [
    "with open('reading.json', 'w') as f:\n",
    "    json.dump(data_dictionary, f)"
   ]
  },
  {
   "cell_type": "code",
   "execution_count": null,
   "metadata": {},
   "outputs": [],
   "source": [
    "with open('reading.json') as f:\n",
    "    loaded_data = json.load(f)"
   ]
  },
  {
   "cell_type": "code",
   "execution_count": null,
   "metadata": {},
   "outputs": [],
   "source": [
    "loaded_data"
   ]
  },
  {
   "cell_type": "markdown",
   "metadata": {},
   "source": [
    "## Credentials in a .py file"
   ]
  },
  {
   "cell_type": "code",
   "execution_count": null,
   "metadata": {},
   "outputs": [],
   "source": [
    "import credentials as creds\n",
    "print(f'username: {creds.username}\\npassword: {creds.password}')"
   ]
  },
  {
   "cell_type": "markdown",
   "metadata": {},
   "source": [
    "## The pickle library\n",
    "pickle can be used for saving and loading raw Python objects."
   ]
  },
  {
   "cell_type": "code",
   "execution_count": null,
   "metadata": {},
   "outputs": [],
   "source": [
    "import pickle as pk\n",
    "\n",
    "data_dictionary = {'books': 12, 'articles': 100, 'subjects': ['math', 'programming', 'data science']}\n",
    "\n",
    "with open('readings.pk', 'wb') as f:\n",
    "    pk.dump(data_dictionary, f)"
   ]
  },
  {
   "cell_type": "code",
   "execution_count": null,
   "metadata": {},
   "outputs": [],
   "source": [
    "with open('readings.pk', 'rb') as f:\n",
    "    data = pk.load(f)\n",
    "\n",
    "print(data)"
   ]
  },
  {
   "cell_type": "markdown",
   "metadata": {},
   "source": [
    "## The joblib library\n",
    "We can also save and load data with joblib. First be sure to install it with `conda install -c conda-forge joblib -y` if you don't already have it installed. Joblib has extra features beyond pickle, such as compression, automatic opening and closing of files, and features to make saving/loading specific data (numpy arrays) faster. Pickle is often faster than joblib, except in special situations (which is why we didn't cover it in the book). This extra section is for your extra knowledge."
   ]
  },
  {
   "cell_type": "code",
   "execution_count": null,
   "metadata": {},
   "outputs": [],
   "source": [
    "import joblib\n",
    "\n",
    "joblib.dump(value=data_dictionary, filename='readings.job', compress=True)"
   ]
  },
  {
   "cell_type": "code",
   "execution_count": null,
   "metadata": {},
   "outputs": [],
   "source": [
    "data = joblib.load(filename='readings.job')\n",
    "data"
   ]
  },
  {
   "cell_type": "markdown",
   "metadata": {},
   "source": [
    "We can time how long something takes with the magic command `%%timeit` in Jupyter Notebooks. Note that pickle is faster for saving and reading this dictionary."
   ]
  },
  {
   "cell_type": "code",
   "execution_count": null,
   "metadata": {},
   "outputs": [],
   "source": [
    "%%timeit\n",
    "joblib.dump(value=data_dictionary, filename='readings.job', compress=True)"
   ]
  },
  {
   "cell_type": "code",
   "execution_count": null,
   "metadata": {},
   "outputs": [],
   "source": [
    "%%timeit\n",
    "with open('readings.pk', 'wb') as f:\n",
    "    pk.dump(data_dictionary, f)"
   ]
  },
  {
   "cell_type": "code",
   "execution_count": null,
   "metadata": {},
   "outputs": [],
   "source": [
    "%%timeit\n",
    "data = joblib.load(filename='readings.job')"
   ]
  },
  {
   "cell_type": "code",
   "execution_count": null,
   "metadata": {},
   "outputs": [],
   "source": [
    "%%timeit\n",
    "with open('readings.pk', 'rb') as f:\n",
    "    data = pk.load(f)"
   ]
  },
  {
   "cell_type": "markdown",
   "metadata": {},
   "source": [
    "We can see that for normal dictionaries, pickle is much faster for saving and loading than joblib."
   ]
  },
  {
   "cell_type": "markdown",
   "metadata": {
    "tags": []
   },
   "source": [
    "## sqlite3"
   ]
  },
  {
   "cell_type": "markdown",
   "metadata": {},
   "source": [
    "When we install Python, we also install SQLite3. We can use it from within Python, but also from the command line. If we open a terminal and type `sqlite3`, it takes us to the SQLite shell. From the shell, we can run any SQLite command. For example, if we are in the directory with the chinook.db file from this GitHub repo (within the same folder that contains this notebook), we can type `.open chinook.db` to load the database. Then we can see the tables within the database with `.tables`. We can also connect to the database through Python and run commands as show below."
   ]
  },
  {
   "cell_type": "code",
   "execution_count": null,
   "metadata": {},
   "outputs": [],
   "source": [
    "import sqlite3\n",
    "connection = sqlite3.connect('chinook.db')\n",
    "cursor = connection.cursor()"
   ]
  },
  {
   "cell_type": "code",
   "execution_count": null,
   "metadata": {
    "tags": []
   },
   "outputs": [],
   "source": [
    "# list out tables -- .table does not work from Python sqlite3\n",
    "cursor.execute(\"SELECT name FROM sqlite_master WHERE type='table';\")\n",
    "cursor.fetchall()"
   ]
  },
  {
   "cell_type": "code",
   "execution_count": null,
   "metadata": {},
   "outputs": [],
   "source": [
    "# get table information (column names, types, settings)\n",
    "cursor.execute('PRAGMA table_info(artists);')\n",
    "cursor.fetchall()"
   ]
  },
  {
   "cell_type": "code",
   "execution_count": null,
   "metadata": {},
   "outputs": [],
   "source": [
    "# SELECT the first 5 rows of artists\n",
    "cursor.execute('SELECT * FROM artists LIMIT 5;')\n",
    "cursor.fetchall()"
   ]
  },
  {
   "cell_type": "code",
   "execution_count": null,
   "metadata": {},
   "outputs": [],
   "source": [
    "# especially for longer queries, it helps to format them like this, with each SQL command on a separate line\n",
    "query = \"\"\"\n",
    "SELECT *\n",
    "FROM artists\n",
    "LIMIT 5;\n",
    "\"\"\"\n",
    "cursor.execute(query)\n",
    "cursor.fetchall()"
   ]
  },
  {
   "cell_type": "code",
   "execution_count": null,
   "metadata": {},
   "outputs": [],
   "source": [
    "# get table information (column names, types, settings)\n",
    "cursor.execute('PRAGMA table_info(invoices);')\n",
    "cursor.fetchall()"
   ]
  },
  {
   "cell_type": "code",
   "execution_count": null,
   "metadata": {
    "tags": []
   },
   "outputs": [],
   "source": [
    "# save table column names in a list\n",
    "cursor.execute('PRAGMA table_info(invoices);')\n",
    "results = cursor.fetchall()\n",
    "column_names = [r[1] for r in results]"
   ]
  },
  {
   "cell_type": "code",
   "execution_count": null,
   "metadata": {},
   "outputs": [],
   "source": [
    "column_names"
   ]
  },
  {
   "cell_type": "code",
   "execution_count": null,
   "metadata": {},
   "outputs": [],
   "source": [
    "cursor.execute('SELECT * FROM invoices LIMIT 5;')\n",
    "cursor.fetchall()"
   ]
  },
  {
   "cell_type": "code",
   "execution_count": null,
   "metadata": {},
   "outputs": [],
   "source": [
    "# ORDER BY\n",
    "cursor.execute('SELECT Total, InvoiceDate from invoices ORDER BY Total DESC LIMIT 5;')\n",
    "cursor.fetchall()"
   ]
  },
  {
   "cell_type": "code",
   "execution_count": null,
   "metadata": {},
   "outputs": [],
   "source": [
    "# WHERE statement\n",
    "cursor.execute('SELECT Total, BillingCountry from invoices WHERE BillingCountry == \"Canada\" LIMIT 5;')\n",
    "cursor.fetchall()"
   ]
  },
  {
   "cell_type": "code",
   "execution_count": null,
   "metadata": {},
   "outputs": [],
   "source": [
    "# WHERE using an inserted argument\n",
    "cursor.execute('SELECT Total, BillingCountry from invoices WHERE BillingCountry == ? LIMIT 5;', ('Canada',))\n",
    "cursor.fetchall()"
   ]
  },
  {
   "cell_type": "code",
   "execution_count": null,
   "metadata": {},
   "outputs": [],
   "source": [
    "# LIKE command\n",
    "cursor.execute('SELECT Total, BillingCountry from invoices WHERE BillingCountry LIKE \"%can%\" LIMIT 5;')\n",
    "cursor.fetchall()"
   ]
  },
  {
   "cell_type": "code",
   "execution_count": null,
   "metadata": {},
   "outputs": [],
   "source": [
    "# GROUP BY statement\n",
    "cursor.execute('SELECT SUM(Total), BillingCountry from invoices GROUP BY BillingCountry ORDER BY SUM(Total) DESC LIMIT 5;')\n",
    "cursor.fetchall()"
   ]
  },
  {
   "cell_type": "code",
   "execution_count": null,
   "metadata": {},
   "outputs": [],
   "source": [
    "# examine column names for invoice_items table\n",
    "cursor.execute('PRAGMA table_info(invoice_items);')\n",
    "cursor.fetchall()"
   ]
  },
  {
   "cell_type": "code",
   "execution_count": null,
   "metadata": {},
   "outputs": [],
   "source": [
    "# examine a sample of the data\n",
    "cursor.execute('SELECT * FROM invoice_items LIMIT 5;')\n",
    "cursor.fetchall()"
   ]
  },
  {
   "cell_type": "code",
   "execution_count": null,
   "metadata": {},
   "outputs": [],
   "source": [
    "# aliases can be used to rename columns and tables\n",
    "# according to some SQL style guides, it's not best practice to alias a table\n",
    "cursor.execute('SELECT i.TrackID as tid, i.UnitPrice as up FROM invoice_items as i LIMIT 5;')\n",
    "cursor.fetchall()"
   ]
  },
  {
   "cell_type": "code",
   "execution_count": null,
   "metadata": {},
   "outputs": [],
   "source": [
    "# DISTINCT\n",
    "cursor.execute('SELECT DISTINCT UnitPrice FROM invoice_items;')\n",
    "cursor.fetchall()"
   ]
  },
  {
   "cell_type": "code",
   "execution_count": null,
   "metadata": {},
   "outputs": [],
   "source": [
    "# JOIN\n",
    "# get tracks that were purchased and combine with the country\n",
    "query = \"\"\"\n",
    "SELECT invoices.BillingCountry, invoice_items.TrackId\n",
    "FROM invoices\n",
    "JOIN invoice_items\n",
    "ON invoices.InvoiceId = invoice_items.InvoiceId\n",
    "LIMIT 5;\n",
    "\"\"\"\n",
    "cursor.execute(query)\n",
    "cursor.fetchall()"
   ]
  },
  {
   "cell_type": "code",
   "execution_count": null,
   "metadata": {},
   "outputs": [],
   "source": [
    "# get number of purchased tracks for each track by country, sorted by the top-most purchased\n",
    "query = \"\"\"\n",
    "SELECT invoice_items.TrackId, COUNT(invoice_items.TrackId), invoices.BillingCountry\n",
    "FROM invoices\n",
    "JOIN invoice_items\n",
    "ON invoices.InvoiceId = invoice_items.InvoiceId\n",
    "GROUP BY invoices.BillingCountry\n",
    "ORDER BY COUNT(invoice_items.TrackId) DESC\n",
    "LIMIT 5;\n",
    "\"\"\"\n",
    "cursor.execute(query)\n",
    "cursor.fetchall()"
   ]
  },
  {
   "cell_type": "code",
   "execution_count": null,
   "metadata": {},
   "outputs": [],
   "source": [
    "# multiple JOINs\n",
    "query = \"\"\"\n",
    "SELECT tracks.Name, COUNT(invoice_items.TrackId), invoices.BillingCountry\n",
    "FROM invoices\n",
    "JOIN invoice_items\n",
    "ON invoices.InvoiceId = invoice_items.InvoiceId\n",
    "JOIN tracks\n",
    "ON tracks.TrackId = invoice_items.TrackId\n",
    "GROUP BY invoices.BillingCountry\n",
    "ORDER BY COUNT(invoice_items.TrackId) DESC\n",
    "LIMIT 5;\n",
    "\"\"\"\n",
    "cursor.execute(query)\n",
    "cursor.fetchall()"
   ]
  },
  {
   "cell_type": "code",
   "execution_count": null,
   "metadata": {},
   "outputs": [],
   "source": [
    "# this same command as above can also be done with a subquery like this, but is easier with multiple joins\n",
    "query = \"\"\"\n",
    "SELECT tracks.Name, invoice_merged.track_count, invoice_merged.BillingCountry\n",
    "FROM\n",
    "    (SELECT ii.TrackId, COUNT(ii.TrackId) as track_count, i.BillingCountry\n",
    "    FROM invoices as i\n",
    "    JOIN invoice_items as ii\n",
    "    ON i.InvoiceId = ii.InvoiceId\n",
    "    GROUP BY BillingCountry) as invoice_merged\n",
    "JOIN tracks\n",
    "ON tracks.TrackId = invoice_merged.TrackId\n",
    "ORDER BY track_count DESC\n",
    "LIMIT 5;\n",
    "\"\"\"\n",
    "cursor.execute(query)\n",
    "cursor.fetchall()"
   ]
  },
  {
   "cell_type": "code",
   "execution_count": null,
   "metadata": {},
   "outputs": [],
   "source": [
    "# be sure to close the connection when done\n",
    "connection.close()"
   ]
  },
  {
   "cell_type": "markdown",
   "metadata": {},
   "source": [
    "### Storing data in a sqlite3 database"
   ]
  },
  {
   "cell_type": "code",
   "execution_count": 5,
   "metadata": {},
   "outputs": [
    {
     "name": "stdout",
     "output_type": "stream",
     "text": [
      "<class 'tuple'>\n"
     ]
    }
   ],
   "source": [
    "# hypothetical book sales data\n",
    "book_data = [('12-1-2020', 'Practical Data Science With Python', 19.99, 1),\n",
    "       ('12-15-2020', 'Python Machine Learning', 27.99, 1),\n",
    "       ('12-17-2020', 'Machine Learning For Algorithmic Trading', 34.99, 1)]"
   ]
  },
  {
   "cell_type": "code",
   "execution_count": null,
   "metadata": {},
   "outputs": [],
   "source": [
    "# CREATE and INSERT\n",
    "connection = sqlite3.connect('book_sales.db')\n",
    "cursor = connection.cursor()"
   ]
  },
  {
   "cell_type": "code",
   "execution_count": null,
   "metadata": {},
   "outputs": [],
   "source": [
    "# Create table\n",
    "cursor.execute('''CREATE TABLE IF NOT EXISTS book_sales\n",
    "             (date text, book_title text, price real, quantity real)''')"
   ]
  },
  {
   "cell_type": "code",
   "execution_count": null,
   "metadata": {},
   "outputs": [],
   "source": [
    "# the table is now there\n",
    "cursor.execute(\"SELECT name FROM sqlite_master WHERE type='table';\")\n",
    "cursor.fetchall()"
   ]
  },
  {
   "cell_type": "code",
   "execution_count": null,
   "metadata": {},
   "outputs": [],
   "source": [
    "# Insert a row of data\n",
    "cursor.execute(\"INSERT INTO book_sales VALUES (?, ?, ?, ?)\", book_data[0])"
   ]
  },
  {
   "cell_type": "code",
   "execution_count": null,
   "metadata": {},
   "outputs": [],
   "source": [
    "cursor.execute('SELECT * FROM book_sales ;')\n",
    "cursor.fetchall()"
   ]
  },
  {
   "cell_type": "code",
   "execution_count": null,
   "metadata": {},
   "outputs": [],
   "source": [
    "# Save the changes with .commit()\n",
    "# Without this line, the inserted data will not be saved in the database after we close the connection\n",
    "connection.commit()"
   ]
  },
  {
   "cell_type": "code",
   "execution_count": null,
   "metadata": {},
   "outputs": [],
   "source": [
    "# insert several records at a time\n",
    "cursor.executemany('INSERT INTO book_sales VALUES (?, ?, ?, ?)', book_data[1:])\n",
    "# don't forget to save the changes\n",
    "connection.commit()"
   ]
  },
  {
   "cell_type": "code",
   "execution_count": null,
   "metadata": {},
   "outputs": [],
   "source": [
    "cursor.execute('SELECT * FROM book_sales;')\n",
    "cursor.fetchall()"
   ]
  },
  {
   "cell_type": "code",
   "execution_count": null,
   "metadata": {},
   "outputs": [],
   "source": [
    "connection.close()"
   ]
  },
  {
   "cell_type": "markdown",
   "metadata": {},
   "source": [
    "## SQLAlchemy"
   ]
  },
  {
   "cell_type": "code",
   "execution_count": null,
   "metadata": {},
   "outputs": [],
   "source": [
    "from sqlalchemy import create_engine\n",
    "engine = create_engine('sqlite:///book_sales.db')\n",
    "connection = engine.connect()"
   ]
  },
  {
   "cell_type": "code",
   "execution_count": null,
   "metadata": {},
   "outputs": [],
   "source": [
    "result = connection.execute(\"select * from book_sales\")\n",
    "result"
   ]
  },
  {
   "cell_type": "code",
   "execution_count": null,
   "metadata": {},
   "outputs": [],
   "source": [
    "list(result)"
   ]
  },
  {
   "cell_type": "code",
   "execution_count": null,
   "metadata": {},
   "outputs": [],
   "source": [
    "for row in result:\n",
    "    print(row['date'])"
   ]
  },
  {
   "cell_type": "code",
   "execution_count": null,
   "metadata": {},
   "outputs": [],
   "source": [
    "result = connection.execute(\"select * from book_sales\")\n",
    "for row in result:\n",
    "    print(row['date'])"
   ]
  },
  {
   "cell_type": "code",
   "execution_count": null,
   "metadata": {},
   "outputs": [],
   "source": [
    "# be sure to close the connection when finished\n",
    "connection.close()"
   ]
  },
  {
   "cell_type": "code",
   "execution_count": null,
   "metadata": {},
   "outputs": [],
   "source": [
    "# we can also use the with clause to automatically close the connection\n",
    "with engine.connect() as connection:\n",
    "    result = connection.execute(\"select * from book_sales\")\n",
    "    for row in result:\n",
    "        print(row)"
   ]
  },
  {
   "cell_type": "code",
   "execution_count": null,
   "metadata": {},
   "outputs": [],
   "source": [
    "connection.closed"
   ]
  },
  {
   "cell_type": "code",
   "execution_count": null,
   "metadata": {},
   "outputs": [],
   "source": [
    "# the connection is closed from the 'with' statement, so we can't use it\n",
    "# notice in the middle and at the bottom of the error, it says 'This Connection is closed'\n",
    "result = connection.execute(\"select * from book_sales\")"
   ]
  },
  {
   "cell_type": "code",
   "execution_count": null,
   "metadata": {},
   "outputs": [],
   "source": [
    "from sqlalchemy import MetaData, Table\n",
    "\n",
    "metadata = MetaData(engine)\n",
    "book_sales = Table('book_sales', metadata, autoload=True)\n",
    "conn = engine.connect()"
   ]
  },
  {
   "cell_type": "code",
   "execution_count": null,
   "metadata": {},
   "outputs": [],
   "source": [
    "res = conn.execute(book_sales.select())\n",
    "for r in res:\n",
    "    print(r)"
   ]
  },
  {
   "cell_type": "code",
   "execution_count": null,
   "metadata": {},
   "outputs": [],
   "source": [
    "ins = book_sales.insert().values(book_title='machine learining', price='10.99')\n",
    "conn.execute(ins)"
   ]
  },
  {
   "cell_type": "code",
   "execution_count": null,
   "metadata": {
    "tags": []
   },
   "outputs": [],
   "source": [
    "res = conn.execute(book_sales.select())\n",
    "for r in res:\n",
    "    print(r)"
   ]
  }
 ],
 "metadata": {
  "kernelspec": {
   "display_name": "Python 3 (ipykernel)",
   "language": "python",
   "name": "python3"
  },
  "language_info": {
   "codemirror_mode": {
    "name": "ipython",
    "version": 3
   },
   "file_extension": ".py",
   "mimetype": "text/x-python",
   "name": "python",
   "nbconvert_exporter": "python",
   "pygments_lexer": "ipython3",
   "version": "3.9.16"
  }
 },
 "nbformat": 4,
 "nbformat_minor": 4
}
