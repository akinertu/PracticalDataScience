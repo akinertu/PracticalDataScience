{
 "cells": [
  {
   "cell_type": "code",
   "execution_count": 20,
   "id": "25e042e1-e94d-467f-9e63-c39e3ef6525a",
   "metadata": {
    "tags": []
   },
   "outputs": [],
   "source": [
    "import pandas as pd\n",
    "import numpy as np\n",
    "import matplotlib.pyplot as plt\n",
    "from sklearn.impute import KNNImputer"
   ]
  },
  {
   "cell_type": "code",
   "execution_count": 2,
   "id": "e0d7f079-256a-4c06-9398-fa5996278376",
   "metadata": {
    "collapsed": true,
    "jupyter": {
     "outputs_hidden": true
    },
    "tags": []
   },
   "outputs": [
    {
     "data": {
      "text/html": [
       "<div>\n",
       "<style scoped>\n",
       "    .dataframe tbody tr th:only-of-type {\n",
       "        vertical-align: middle;\n",
       "    }\n",
       "\n",
       "    .dataframe tbody tr th {\n",
       "        vertical-align: top;\n",
       "    }\n",
       "\n",
       "    .dataframe thead th {\n",
       "        text-align: right;\n",
       "    }\n",
       "</style>\n",
       "<table border=\"1\" class=\"dataframe\">\n",
       "  <thead>\n",
       "    <tr style=\"text-align: right;\">\n",
       "      <th></th>\n",
       "      <th>Field</th>\n",
       "      <th>Description</th>\n",
       "    </tr>\n",
       "  </thead>\n",
       "  <tbody>\n",
       "    <tr>\n",
       "      <th>0</th>\n",
       "      <td>region_name</td>\n",
       "      <td>Region name (census tract, zip code, city, cou...</td>\n",
       "    </tr>\n",
       "    <tr>\n",
       "      <th>1</th>\n",
       "      <td>count_qualified</td>\n",
       "      <td># of buildings in Google Maps that are suitabl...</td>\n",
       "    </tr>\n",
       "    <tr>\n",
       "      <th>2</th>\n",
       "      <td>percent_covered</td>\n",
       "      <td>% of buildings in Google Maps covered by Proje...</td>\n",
       "    </tr>\n",
       "    <tr>\n",
       "      <th>3</th>\n",
       "      <td>percent_qualified</td>\n",
       "      <td>% of buildings covered by Project Sunroof that...</td>\n",
       "    </tr>\n",
       "    <tr>\n",
       "      <th>4</th>\n",
       "      <td>yearly_sunlight_kwh_kw_threshold_avg</td>\n",
       "      <td>75% of the optimimum sunlight in the county co...</td>\n",
       "    </tr>\n",
       "    <tr>\n",
       "      <th>5</th>\n",
       "      <td>yearly_sunlight_kwh_total</td>\n",
       "      <td>total solar energy generation potential for al...</td>\n",
       "    </tr>\n",
       "    <tr>\n",
       "      <th>6</th>\n",
       "      <td>yearly_sunlight_kwh_f</td>\n",
       "      <td>total solar energy generation potential for fl...</td>\n",
       "    </tr>\n",
       "    <tr>\n",
       "      <th>7</th>\n",
       "      <td>yearly_sunlight_kwh_n</td>\n",
       "      <td>total solar energy generation potential for no...</td>\n",
       "    </tr>\n",
       "    <tr>\n",
       "      <th>8</th>\n",
       "      <td>yearly_sunlight_kwh_e</td>\n",
       "      <td>total solar energy generation potential for ea...</td>\n",
       "    </tr>\n",
       "    <tr>\n",
       "      <th>9</th>\n",
       "      <td>yearly_sunlight_kwh_s</td>\n",
       "      <td>total solar energy generation potential for so...</td>\n",
       "    </tr>\n",
       "    <tr>\n",
       "      <th>10</th>\n",
       "      <td>yearly_sunlight_kwh_w</td>\n",
       "      <td>total solar energy generation potential for we...</td>\n",
       "    </tr>\n",
       "    <tr>\n",
       "      <th>11</th>\n",
       "      <td>number_of_panels_total</td>\n",
       "      <td># of solar panels potential for all roof space...</td>\n",
       "    </tr>\n",
       "    <tr>\n",
       "      <th>12</th>\n",
       "      <td>number_of_panels_f</td>\n",
       "      <td># of solar panels potential for flat roof spac...</td>\n",
       "    </tr>\n",
       "    <tr>\n",
       "      <th>13</th>\n",
       "      <td>number_of_panels_n</td>\n",
       "      <td># of solar panels potential for north-facing r...</td>\n",
       "    </tr>\n",
       "    <tr>\n",
       "      <th>14</th>\n",
       "      <td>number_of_panels_e</td>\n",
       "      <td># of solar panels potential for east-facing ro...</td>\n",
       "    </tr>\n",
       "    <tr>\n",
       "      <th>15</th>\n",
       "      <td>number_of_panels_s</td>\n",
       "      <td># of solar panels potential for south-facing r...</td>\n",
       "    </tr>\n",
       "    <tr>\n",
       "      <th>16</th>\n",
       "      <td>number_of_panels_w</td>\n",
       "      <td># of solar panels potential for west-facing ro...</td>\n",
       "    </tr>\n",
       "    <tr>\n",
       "      <th>17</th>\n",
       "      <td>carbon_offset_metric_tons</td>\n",
       "      <td>The potential carbon dioxide abatement of the ...</td>\n",
       "    </tr>\n",
       "    <tr>\n",
       "      <th>18</th>\n",
       "      <td>number_of_panels_median</td>\n",
       "      <td># of panels that fit on the median roof</td>\n",
       "    </tr>\n",
       "    <tr>\n",
       "      <th>19</th>\n",
       "      <td>yearly_sunlight_kwh_median</td>\n",
       "      <td>kWh/kw/yr for the median roof, in DC (not AC) ...</td>\n",
       "    </tr>\n",
       "    <tr>\n",
       "      <th>20</th>\n",
       "      <td>install_size_kw_buckets_json</td>\n",
       "      <td># of buildings with potential for various inst...</td>\n",
       "    </tr>\n",
       "    <tr>\n",
       "      <th>21</th>\n",
       "      <td>lat_avg</td>\n",
       "      <td>average latitude for that region</td>\n",
       "    </tr>\n",
       "    <tr>\n",
       "      <th>22</th>\n",
       "      <td>lng_avg</td>\n",
       "      <td>average longitude for that region</td>\n",
       "    </tr>\n",
       "    <tr>\n",
       "      <th>23</th>\n",
       "      <td>lat_min</td>\n",
       "      <td>minimum latitude for that region</td>\n",
       "    </tr>\n",
       "    <tr>\n",
       "      <th>24</th>\n",
       "      <td>lng_min</td>\n",
       "      <td>minimum longitude for that region</td>\n",
       "    </tr>\n",
       "    <tr>\n",
       "      <th>25</th>\n",
       "      <td>lat_max</td>\n",
       "      <td>maximum latitude for that region</td>\n",
       "    </tr>\n",
       "    <tr>\n",
       "      <th>26</th>\n",
       "      <td>lng_max</td>\n",
       "      <td>maximum longitude for that region</td>\n",
       "    </tr>\n",
       "    <tr>\n",
       "      <th>27</th>\n",
       "      <td>state_name</td>\n",
       "      <td>Name of the state containing that region</td>\n",
       "    </tr>\n",
       "    <tr>\n",
       "      <th>28</th>\n",
       "      <td>kw_total</td>\n",
       "      <td># of kW of solar potential for all roof types ...</td>\n",
       "    </tr>\n",
       "    <tr>\n",
       "      <th>29</th>\n",
       "      <td>kw_median</td>\n",
       "      <td>kW of solar potential for the median building ...</td>\n",
       "    </tr>\n",
       "    <tr>\n",
       "      <th>30</th>\n",
       "      <td>existing_installs_count</td>\n",
       "      <td># of buildings estimated to have a solar insta...</td>\n",
       "    </tr>\n",
       "  </tbody>\n",
       "</table>\n",
       "</div>"
      ],
      "text/plain": [
       "                                   Field  \\\n",
       "0                            region_name   \n",
       "1                        count_qualified   \n",
       "2                        percent_covered   \n",
       "3                      percent_qualified   \n",
       "4   yearly_sunlight_kwh_kw_threshold_avg   \n",
       "5              yearly_sunlight_kwh_total   \n",
       "6                  yearly_sunlight_kwh_f   \n",
       "7                  yearly_sunlight_kwh_n   \n",
       "8                  yearly_sunlight_kwh_e   \n",
       "9                  yearly_sunlight_kwh_s   \n",
       "10                 yearly_sunlight_kwh_w   \n",
       "11                number_of_panels_total   \n",
       "12                    number_of_panels_f   \n",
       "13                    number_of_panels_n   \n",
       "14                    number_of_panels_e   \n",
       "15                    number_of_panels_s   \n",
       "16                    number_of_panels_w   \n",
       "17             carbon_offset_metric_tons   \n",
       "18               number_of_panels_median   \n",
       "19            yearly_sunlight_kwh_median   \n",
       "20          install_size_kw_buckets_json   \n",
       "21                               lat_avg   \n",
       "22                               lng_avg   \n",
       "23                               lat_min   \n",
       "24                               lng_min   \n",
       "25                               lat_max   \n",
       "26                               lng_max   \n",
       "27                            state_name   \n",
       "28                              kw_total   \n",
       "29                             kw_median   \n",
       "30               existing_installs_count   \n",
       "\n",
       "                                          Description  \n",
       "0   Region name (census tract, zip code, city, cou...  \n",
       "1   # of buildings in Google Maps that are suitabl...  \n",
       "2   % of buildings in Google Maps covered by Proje...  \n",
       "3   % of buildings covered by Project Sunroof that...  \n",
       "4   75% of the optimimum sunlight in the county co...  \n",
       "5   total solar energy generation potential for al...  \n",
       "6   total solar energy generation potential for fl...  \n",
       "7   total solar energy generation potential for no...  \n",
       "8   total solar energy generation potential for ea...  \n",
       "9   total solar energy generation potential for so...  \n",
       "10  total solar energy generation potential for we...  \n",
       "11  # of solar panels potential for all roof space...  \n",
       "12  # of solar panels potential for flat roof spac...  \n",
       "13  # of solar panels potential for north-facing r...  \n",
       "14  # of solar panels potential for east-facing ro...  \n",
       "15  # of solar panels potential for south-facing r...  \n",
       "16  # of solar panels potential for west-facing ro...  \n",
       "17  The potential carbon dioxide abatement of the ...  \n",
       "18            # of panels that fit on the median roof  \n",
       "19  kWh/kw/yr for the median roof, in DC (not AC) ...  \n",
       "20  # of buildings with potential for various inst...  \n",
       "21                   average latitude for that region  \n",
       "22                  average longitude for that region  \n",
       "23                   minimum latitude for that region  \n",
       "24                  minimum longitude for that region  \n",
       "25                   maximum latitude for that region  \n",
       "26                  maximum longitude for that region  \n",
       "27           Name of the state containing that region  \n",
       "28  # of kW of solar potential for all roof types ...  \n",
       "29  kW of solar potential for the median building ...  \n",
       "30  # of buildings estimated to have a solar insta...  "
      ]
     },
     "execution_count": 2,
     "metadata": {},
     "output_type": "execute_result"
    }
   ],
   "source": [
    "# Data info\n",
    "meta_csv_df = pd.read_csv('data/metadata.csv')\n",
    "meta_csv_df.set_index('Field')\n",
    "meta_csv_df"
   ]
  },
  {
   "cell_type": "code",
   "execution_count": 3,
   "id": "89db6d54-cb19-4184-87a9-01301740a84d",
   "metadata": {
    "collapsed": true,
    "jupyter": {
     "outputs_hidden": true
    }
   },
   "outputs": [
    {
     "data": {
      "text/plain": [
       "'# of buildings estimated to have a solar installation, at time of data collection'"
      ]
     },
     "execution_count": 3,
     "metadata": {},
     "output_type": "execute_result"
    }
   ],
   "source": [
    "meta_csv_df.loc[30][1]"
   ]
  },
  {
   "cell_type": "code",
   "execution_count": 4,
   "id": "05ddce33-2de7-4818-ac89-66ec74432e51",
   "metadata": {
    "collapsed": true,
    "jupyter": {
     "outputs_hidden": true
    },
    "tags": []
   },
   "outputs": [
    {
     "name": "stdout",
     "output_type": "stream",
     "text": [
      "(21, 7)\n"
     ]
    },
    {
     "data": {
      "text/html": [
       "<div>\n",
       "<style scoped>\n",
       "    .dataframe tbody tr th:only-of-type {\n",
       "        vertical-align: middle;\n",
       "    }\n",
       "\n",
       "    .dataframe tbody tr th {\n",
       "        vertical-align: top;\n",
       "    }\n",
       "\n",
       "    .dataframe thead th {\n",
       "        text-align: right;\n",
       "    }\n",
       "</style>\n",
       "<table border=\"1\" class=\"dataframe\">\n",
       "  <thead>\n",
       "    <tr style=\"text-align: right;\">\n",
       "      <th></th>\n",
       "      <th>state_name</th>\n",
       "      <th>number_of_panels_total</th>\n",
       "      <th>kw_total</th>\n",
       "      <th>kw_median</th>\n",
       "      <th>yearly_sunlight_kwh_median</th>\n",
       "      <th>yearly_sunlight_kwh_total</th>\n",
       "      <th>existing_installs_count</th>\n",
       "    </tr>\n",
       "  </thead>\n",
       "  <tbody>\n",
       "    <tr>\n",
       "      <th>16</th>\n",
       "      <td>Iowa</td>\n",
       "      <td>23041660</td>\n",
       "      <td>5760415.00</td>\n",
       "      <td>7.00</td>\n",
       "      <td>8292.486279</td>\n",
       "      <td>6.862786e+09</td>\n",
       "      <td>248.0</td>\n",
       "    </tr>\n",
       "    <tr>\n",
       "      <th>17</th>\n",
       "      <td>Kansas</td>\n",
       "      <td>26403168</td>\n",
       "      <td>6600792.00</td>\n",
       "      <td>8.25</td>\n",
       "      <td>10583.576611</td>\n",
       "      <td>8.588088e+09</td>\n",
       "      <td>NaN</td>\n",
       "    </tr>\n",
       "    <tr>\n",
       "      <th>18</th>\n",
       "      <td>Kentucky</td>\n",
       "      <td>35302639</td>\n",
       "      <td>8825659.75</td>\n",
       "      <td>7.75</td>\n",
       "      <td>9045.892059</td>\n",
       "      <td>1.052102e+10</td>\n",
       "      <td>707.0</td>\n",
       "    </tr>\n",
       "    <tr>\n",
       "      <th>19</th>\n",
       "      <td>Louisiana</td>\n",
       "      <td>60024259</td>\n",
       "      <td>15006064.75</td>\n",
       "      <td>11.00</td>\n",
       "      <td>14140.453491</td>\n",
       "      <td>1.951487e+10</td>\n",
       "      <td>8142.0</td>\n",
       "    </tr>\n",
       "    <tr>\n",
       "      <th>20</th>\n",
       "      <td>Maine</td>\n",
       "      <td>6252716</td>\n",
       "      <td>1563179.00</td>\n",
       "      <td>5.75</td>\n",
       "      <td>6562.470239</td>\n",
       "      <td>1.792813e+09</td>\n",
       "      <td>360.0</td>\n",
       "    </tr>\n",
       "  </tbody>\n",
       "</table>\n",
       "</div>"
      ],
      "text/plain": [
       "   state_name  number_of_panels_total     kw_total  kw_median  \\\n",
       "16       Iowa                23041660   5760415.00       7.00   \n",
       "17     Kansas                26403168   6600792.00       8.25   \n",
       "18   Kentucky                35302639   8825659.75       7.75   \n",
       "19  Louisiana                60024259  15006064.75      11.00   \n",
       "20      Maine                 6252716   1563179.00       5.75   \n",
       "\n",
       "    yearly_sunlight_kwh_median  yearly_sunlight_kwh_total  \\\n",
       "16                 8292.486279               6.862786e+09   \n",
       "17                10583.576611               8.588088e+09   \n",
       "18                 9045.892059               1.052102e+10   \n",
       "19                14140.453491               1.951487e+10   \n",
       "20                 6562.470239               1.792813e+09   \n",
       "\n",
       "    existing_installs_count  \n",
       "16                    248.0  \n",
       "17                      NaN  \n",
       "18                    707.0  \n",
       "19                   8142.0  \n",
       "20                    360.0  "
      ]
     },
     "execution_count": 4,
     "metadata": {},
     "output_type": "execute_result"
    }
   ],
   "source": [
    "# Load solar_data1\n",
    "solar_data1 = pd.read_excel('data/solar_data_1.xlsx') # Load data\n",
    "print(solar_data1.shape) #Examine the data's dimensions\n",
    "solar_data1.tail() #Examine the top and bottom of the data"
   ]
  },
  {
   "cell_type": "code",
   "execution_count": 5,
   "id": "fd7a1ede-85b2-4634-962c-2420ca9d8225",
   "metadata": {
    "collapsed": true,
    "jupyter": {
     "outputs_hidden": true
    },
    "tags": []
   },
   "outputs": [
    {
     "name": "stdout",
     "output_type": "stream",
     "text": [
      "(34, 7)\n"
     ]
    },
    {
     "data": {
      "text/html": [
       "<div>\n",
       "<style scoped>\n",
       "    .dataframe tbody tr th:only-of-type {\n",
       "        vertical-align: middle;\n",
       "    }\n",
       "\n",
       "    .dataframe tbody tr th {\n",
       "        vertical-align: top;\n",
       "    }\n",
       "\n",
       "    .dataframe thead th {\n",
       "        text-align: right;\n",
       "    }\n",
       "</style>\n",
       "<table border=\"1\" class=\"dataframe\">\n",
       "  <thead>\n",
       "    <tr style=\"text-align: right;\">\n",
       "      <th></th>\n",
       "      <th>state_name</th>\n",
       "      <th>number_of_panels_total</th>\n",
       "      <th>kw_total</th>\n",
       "      <th>kw_median</th>\n",
       "      <th>yearly_sunlight_kwh_median</th>\n",
       "      <th>yearly_sunlight_kwh_total</th>\n",
       "      <th>existing_installs_count</th>\n",
       "    </tr>\n",
       "  </thead>\n",
       "  <tbody>\n",
       "    <tr>\n",
       "      <th>29</th>\n",
       "      <td>Wisconsin</td>\n",
       "      <td>63987980</td>\n",
       "      <td>15996995.00</td>\n",
       "      <td>7.50</td>\n",
       "      <td>8465.384497</td>\n",
       "      <td>1.841213e+10</td>\n",
       "      <td>1916</td>\n",
       "    </tr>\n",
       "    <tr>\n",
       "      <th>30</th>\n",
       "      <td>Wyoming</td>\n",
       "      <td>3249883</td>\n",
       "      <td>812470.75</td>\n",
       "      <td>7.75</td>\n",
       "      <td>10645.344800</td>\n",
       "      <td>1.108615e+09</td>\n",
       "      <td>29</td>\n",
       "    </tr>\n",
       "    <tr>\n",
       "      <th>31</th>\n",
       "      <td>Massachusetts</td>\n",
       "      <td>52098838</td>\n",
       "      <td>13024709.50</td>\n",
       "      <td>5.75</td>\n",
       "      <td>6571.621021</td>\n",
       "      <td>1.486191e+10</td>\n",
       "      <td>15331</td>\n",
       "    </tr>\n",
       "    <tr>\n",
       "      <th>32</th>\n",
       "      <td>Michigan</td>\n",
       "      <td>96360897</td>\n",
       "      <td>24090224.25</td>\n",
       "      <td>6.75</td>\n",
       "      <td>7350.628174</td>\n",
       "      <td>2.695720e+10</td>\n",
       "      <td>1727</td>\n",
       "    </tr>\n",
       "    <tr>\n",
       "      <th>33</th>\n",
       "      <td>Minnesota</td>\n",
       "      <td>51738380</td>\n",
       "      <td>12934595.00</td>\n",
       "      <td>7.00</td>\n",
       "      <td>7896.430273</td>\n",
       "      <td>1.481478e+10</td>\n",
       "      <td>1519</td>\n",
       "    </tr>\n",
       "  </tbody>\n",
       "</table>\n",
       "</div>"
      ],
      "text/plain": [
       "       state_name  number_of_panels_total     kw_total  kw_median  \\\n",
       "29      Wisconsin                63987980  15996995.00       7.50   \n",
       "30        Wyoming                 3249883    812470.75       7.75   \n",
       "31  Massachusetts                52098838  13024709.50       5.75   \n",
       "32       Michigan                96360897  24090224.25       6.75   \n",
       "33      Minnesota                51738380  12934595.00       7.00   \n",
       "\n",
       "    yearly_sunlight_kwh_median  yearly_sunlight_kwh_total  \\\n",
       "29                 8465.384497               1.841213e+10   \n",
       "30                10645.344800               1.108615e+09   \n",
       "31                 6571.621021               1.486191e+10   \n",
       "32                 7350.628174               2.695720e+10   \n",
       "33                 7896.430273               1.481478e+10   \n",
       "\n",
       "    existing_installs_count  \n",
       "29                     1916  \n",
       "30                       29  \n",
       "31                    15331  \n",
       "32                     1727  \n",
       "33                     1519  "
      ]
     },
     "execution_count": 5,
     "metadata": {},
     "output_type": "execute_result"
    }
   ],
   "source": [
    "# Load solar_data2\n",
    "solar_data2 = pd.read_excel('data/solar_data_2.xlsx') # Load data\n",
    "print(solar_data2.shape) #Examine the data's dimensions\n",
    "solar_data2.tail() #Examine the top and bottom of the data"
   ]
  },
  {
   "cell_type": "code",
   "execution_count": 6,
   "id": "39107cc2-47fe-4262-b2bf-9721e13486db",
   "metadata": {
    "collapsed": true,
    "jupyter": {
     "outputs_hidden": true
    },
    "tags": []
   },
   "outputs": [],
   "source": [
    "# Merge solar_data1 & solar_data2\n",
    "solar_data = pd.concat([solar_data1, solar_data2])\n",
    "solar_data.reset_index(inplace=True, drop=True)\n",
    "print(solar_data.shape)"
   ]
  },
  {
   "cell_type": "code",
   "execution_count": 16,
   "id": "f1b3e8b8-c7ce-455c-b043-7bc8b71a314d",
   "metadata": {
    "collapsed": true,
    "jupyter": {
     "outputs_hidden": true
    },
    "tags": []
   },
   "outputs": [
    {
     "name": "stdout",
     "output_type": "stream",
     "text": [
      "<class 'pandas.core.frame.DataFrame'>\n",
      "RangeIndex: 55 entries, 0 to 54\n",
      "Data columns (total 7 columns):\n",
      " #   Column                      Non-Null Count  Dtype  \n",
      "---  ------                      --------------  -----  \n",
      " 0   state_name                  54 non-null     object \n",
      " 1   number_of_panels_total      55 non-null     int64  \n",
      " 2   kw_total                    55 non-null     float64\n",
      " 3   kw_median                   54 non-null     float64\n",
      " 4   yearly_sunlight_kwh_median  54 non-null     float64\n",
      " 5   yearly_sunlight_kwh_total   55 non-null     float64\n",
      " 6   existing_installs_count     54 non-null     float64\n",
      "dtypes: float64(5), int64(1), object(1)\n",
      "memory usage: 3.1+ KB\n"
     ]
    }
   ],
   "source": [
    "solar_data.info() #Examine the datatypes and missing values"
   ]
  },
  {
   "cell_type": "code",
   "execution_count": 15,
   "id": "75e2587e-d4ae-4464-8129-9a3fe3626936",
   "metadata": {
    "collapsed": true,
    "jupyter": {
     "outputs_hidden": true
    },
    "tags": []
   },
   "outputs": [
    {
     "data": {
      "text/html": [
       "<div>\n",
       "<style scoped>\n",
       "    .dataframe tbody tr th:only-of-type {\n",
       "        vertical-align: middle;\n",
       "    }\n",
       "\n",
       "    .dataframe tbody tr th {\n",
       "        vertical-align: top;\n",
       "    }\n",
       "\n",
       "    .dataframe thead th {\n",
       "        text-align: right;\n",
       "    }\n",
       "</style>\n",
       "<table border=\"1\" class=\"dataframe\">\n",
       "  <thead>\n",
       "    <tr style=\"text-align: right;\">\n",
       "      <th></th>\n",
       "      <th>state_name</th>\n",
       "      <th>number_of_panels_total</th>\n",
       "      <th>kw_total</th>\n",
       "      <th>kw_median</th>\n",
       "      <th>yearly_sunlight_kwh_median</th>\n",
       "      <th>yearly_sunlight_kwh_total</th>\n",
       "      <th>existing_installs_count</th>\n",
       "    </tr>\n",
       "  </thead>\n",
       "  <tbody>\n",
       "    <tr>\n",
       "      <th>22</th>\n",
       "      <td>Massachusetts</td>\n",
       "      <td>52098838</td>\n",
       "      <td>13024709.50</td>\n",
       "      <td>5.75</td>\n",
       "      <td>6571.621021</td>\n",
       "      <td>1.486191e+10</td>\n",
       "      <td>15331.0</td>\n",
       "    </tr>\n",
       "    <tr>\n",
       "      <th>23</th>\n",
       "      <td>Michigan</td>\n",
       "      <td>96360897</td>\n",
       "      <td>24090224.25</td>\n",
       "      <td>6.75</td>\n",
       "      <td>7350.628174</td>\n",
       "      <td>2.695720e+10</td>\n",
       "      <td>1727.0</td>\n",
       "    </tr>\n",
       "    <tr>\n",
       "      <th>24</th>\n",
       "      <td>Minnesota</td>\n",
       "      <td>51738380</td>\n",
       "      <td>12934595.00</td>\n",
       "      <td>7.00</td>\n",
       "      <td>7896.430273</td>\n",
       "      <td>1.481478e+10</td>\n",
       "      <td>1519.0</td>\n",
       "    </tr>\n",
       "    <tr>\n",
       "      <th>52</th>\n",
       "      <td>Massachusetts</td>\n",
       "      <td>52098838</td>\n",
       "      <td>13024709.50</td>\n",
       "      <td>5.75</td>\n",
       "      <td>6571.621021</td>\n",
       "      <td>1.486191e+10</td>\n",
       "      <td>15331.0</td>\n",
       "    </tr>\n",
       "    <tr>\n",
       "      <th>53</th>\n",
       "      <td>Michigan</td>\n",
       "      <td>96360897</td>\n",
       "      <td>24090224.25</td>\n",
       "      <td>6.75</td>\n",
       "      <td>7350.628174</td>\n",
       "      <td>2.695720e+10</td>\n",
       "      <td>1727.0</td>\n",
       "    </tr>\n",
       "    <tr>\n",
       "      <th>54</th>\n",
       "      <td>Minnesota</td>\n",
       "      <td>51738380</td>\n",
       "      <td>12934595.00</td>\n",
       "      <td>7.00</td>\n",
       "      <td>7896.430273</td>\n",
       "      <td>1.481478e+10</td>\n",
       "      <td>1519.0</td>\n",
       "    </tr>\n",
       "  </tbody>\n",
       "</table>\n",
       "</div>"
      ],
      "text/plain": [
       "       state_name  number_of_panels_total     kw_total  kw_median  \\\n",
       "22  Massachusetts                52098838  13024709.50       5.75   \n",
       "23       Michigan                96360897  24090224.25       6.75   \n",
       "24      Minnesota                51738380  12934595.00       7.00   \n",
       "52  Massachusetts                52098838  13024709.50       5.75   \n",
       "53       Michigan                96360897  24090224.25       6.75   \n",
       "54      Minnesota                51738380  12934595.00       7.00   \n",
       "\n",
       "    yearly_sunlight_kwh_median  yearly_sunlight_kwh_total  \\\n",
       "22                 6571.621021               1.486191e+10   \n",
       "23                 7350.628174               2.695720e+10   \n",
       "24                 7896.430273               1.481478e+10   \n",
       "52                 6571.621021               1.486191e+10   \n",
       "53                 7350.628174               2.695720e+10   \n",
       "54                 7896.430273               1.481478e+10   \n",
       "\n",
       "    existing_installs_count  \n",
       "22                  15331.0  \n",
       "23                   1727.0  \n",
       "24                   1519.0  \n",
       "52                  15331.0  \n",
       "53                   1727.0  \n",
       "54                   1519.0  "
      ]
     },
     "execution_count": 15,
     "metadata": {},
     "output_type": "execute_result"
    }
   ],
   "source": [
    "solar_data[solar_data.duplicated(keep=False)]"
   ]
  },
  {
   "cell_type": "code",
   "execution_count": 10,
   "id": "79cde0b6-d254-4c4f-a193-5c77917862ab",
   "metadata": {
    "collapsed": true,
    "jupyter": {
     "outputs_hidden": true
    },
    "tags": []
   },
   "outputs": [
    {
     "data": {
      "text/plain": [
       "(52, 7)"
      ]
     },
     "execution_count": 10,
     "metadata": {},
     "output_type": "execute_result"
    }
   ],
   "source": [
    "# Remove the duplicate values\n",
    "unique_data = solar_data.drop_duplicates(keep='first', inplace = False)\n",
    "unique_data.shape"
   ]
  },
  {
   "cell_type": "code",
   "execution_count": 17,
   "id": "1c703b5b-f246-4e4c-a0b0-6a140089edf7",
   "metadata": {
    "collapsed": true,
    "jupyter": {
     "outputs_hidden": true
    },
    "tags": []
   },
   "outputs": [
    {
     "data": {
      "text/plain": [
       "state_name                    1\n",
       "number_of_panels_total        0\n",
       "kw_total                      0\n",
       "kw_median                     1\n",
       "yearly_sunlight_kwh_median    1\n",
       "yearly_sunlight_kwh_total     0\n",
       "existing_installs_count       1\n",
       "dtype: int64"
      ]
     },
     "execution_count": 17,
     "metadata": {},
     "output_type": "execute_result"
    }
   ],
   "source": [
    "unique_data.isna().sum() #missing values"
   ]
  },
  {
   "cell_type": "code",
   "execution_count": 18,
   "id": "7d38d4c5-3000-446a-b910-113433f26724",
   "metadata": {
    "collapsed": true,
    "jupyter": {
     "outputs_hidden": true
    },
    "tags": []
   },
   "outputs": [
    {
     "data": {
      "text/html": [
       "<div>\n",
       "<style scoped>\n",
       "    .dataframe tbody tr th:only-of-type {\n",
       "        vertical-align: middle;\n",
       "    }\n",
       "\n",
       "    .dataframe tbody tr th {\n",
       "        vertical-align: top;\n",
       "    }\n",
       "\n",
       "    .dataframe thead th {\n",
       "        text-align: right;\n",
       "    }\n",
       "</style>\n",
       "<table border=\"1\" class=\"dataframe\">\n",
       "  <thead>\n",
       "    <tr style=\"text-align: right;\">\n",
       "      <th></th>\n",
       "      <th>number_of_panels_total</th>\n",
       "      <th>kw_total</th>\n",
       "      <th>kw_median</th>\n",
       "      <th>yearly_sunlight_kwh_median</th>\n",
       "      <th>yearly_sunlight_kwh_total</th>\n",
       "      <th>existing_installs_count</th>\n",
       "    </tr>\n",
       "  </thead>\n",
       "  <tbody>\n",
       "    <tr>\n",
       "      <th>count</th>\n",
       "      <td>5.200000e+01</td>\n",
       "      <td>5.200000e+01</td>\n",
       "      <td>51.000000</td>\n",
       "      <td>51.000000</td>\n",
       "      <td>5.200000e+01</td>\n",
       "      <td>51.000000</td>\n",
       "    </tr>\n",
       "    <tr>\n",
       "      <th>mean</th>\n",
       "      <td>6.403502e+07</td>\n",
       "      <td>1.600876e+07</td>\n",
       "      <td>7.990196</td>\n",
       "      <td>10110.058732</td>\n",
       "      <td>2.089173e+10</td>\n",
       "      <td>13173.509804</td>\n",
       "    </tr>\n",
       "    <tr>\n",
       "      <th>std</th>\n",
       "      <td>9.276369e+07</td>\n",
       "      <td>2.319092e+07</td>\n",
       "      <td>1.986178</td>\n",
       "      <td>3422.336854</td>\n",
       "      <td>3.323686e+10</td>\n",
       "      <td>47843.193439</td>\n",
       "    </tr>\n",
       "    <tr>\n",
       "      <th>min</th>\n",
       "      <td>3.100000e+01</td>\n",
       "      <td>7.750000e+00</td>\n",
       "      <td>3.250000</td>\n",
       "      <td>5156.452783</td>\n",
       "      <td>1.243764e+04</td>\n",
       "      <td>0.000000</td>\n",
       "    </tr>\n",
       "    <tr>\n",
       "      <th>25%</th>\n",
       "      <td>1.465991e+07</td>\n",
       "      <td>3.664977e+06</td>\n",
       "      <td>6.750000</td>\n",
       "      <td>7429.007211</td>\n",
       "      <td>5.245807e+09</td>\n",
       "      <td>309.000000</td>\n",
       "    </tr>\n",
       "    <tr>\n",
       "      <th>50%</th>\n",
       "      <td>4.122448e+07</td>\n",
       "      <td>1.030612e+07</td>\n",
       "      <td>7.750000</td>\n",
       "      <td>9690.190088</td>\n",
       "      <td>1.288109e+10</td>\n",
       "      <td>1727.000000</td>\n",
       "    </tr>\n",
       "    <tr>\n",
       "      <th>75%</th>\n",
       "      <td>6.996107e+07</td>\n",
       "      <td>1.749027e+07</td>\n",
       "      <td>9.125000</td>\n",
       "      <td>11771.979956</td>\n",
       "      <td>2.069780e+10</td>\n",
       "      <td>5912.000000</td>\n",
       "    </tr>\n",
       "    <tr>\n",
       "      <th>max</th>\n",
       "      <td>5.310227e+08</td>\n",
       "      <td>1.327557e+08</td>\n",
       "      <td>13.000000</td>\n",
       "      <td>19004.649878</td>\n",
       "      <td>1.980163e+11</td>\n",
       "      <td>328899.000000</td>\n",
       "    </tr>\n",
       "  </tbody>\n",
       "</table>\n",
       "</div>"
      ],
      "text/plain": [
       "       number_of_panels_total      kw_total  kw_median  \\\n",
       "count            5.200000e+01  5.200000e+01  51.000000   \n",
       "mean             6.403502e+07  1.600876e+07   7.990196   \n",
       "std              9.276369e+07  2.319092e+07   1.986178   \n",
       "min              3.100000e+01  7.750000e+00   3.250000   \n",
       "25%              1.465991e+07  3.664977e+06   6.750000   \n",
       "50%              4.122448e+07  1.030612e+07   7.750000   \n",
       "75%              6.996107e+07  1.749027e+07   9.125000   \n",
       "max              5.310227e+08  1.327557e+08  13.000000   \n",
       "\n",
       "       yearly_sunlight_kwh_median  yearly_sunlight_kwh_total  \\\n",
       "count                   51.000000               5.200000e+01   \n",
       "mean                 10110.058732               2.089173e+10   \n",
       "std                   3422.336854               3.323686e+10   \n",
       "min                   5156.452783               1.243764e+04   \n",
       "25%                   7429.007211               5.245807e+09   \n",
       "50%                   9690.190088               1.288109e+10   \n",
       "75%                  11771.979956               2.069780e+10   \n",
       "max                  19004.649878               1.980163e+11   \n",
       "\n",
       "       existing_installs_count  \n",
       "count                51.000000  \n",
       "mean              13173.509804  \n",
       "std               47843.193439  \n",
       "min                   0.000000  \n",
       "25%                 309.000000  \n",
       "50%                1727.000000  \n",
       "75%                5912.000000  \n",
       "max              328899.000000  "
      ]
     },
     "execution_count": 18,
     "metadata": {},
     "output_type": "execute_result"
    }
   ],
   "source": [
    "unique_data.describe()"
   ]
  },
  {
   "cell_type": "code",
   "execution_count": 11,
   "id": "03fe11e0-a63d-442a-8619-0c67ebb80dd6",
   "metadata": {
    "tags": []
   },
   "outputs": [
    {
     "data": {
      "text/plain": [
       "array([[<AxesSubplot: title={'center': 'number_of_panels_total'}>,\n",
       "        <AxesSubplot: title={'center': 'kw_total'}>],\n",
       "       [<AxesSubplot: title={'center': 'kw_median'}>,\n",
       "        <AxesSubplot: title={'center': 'yearly_sunlight_kwh_median'}>],\n",
       "       [<AxesSubplot: title={'center': 'yearly_sunlight_kwh_total'}>,\n",
       "        <AxesSubplot: title={'center': 'existing_installs_count'}>]],\n",
       "      dtype=object)"
      ]
     },
     "execution_count": 11,
     "metadata": {},
     "output_type": "execute_result"
    },
    {
     "data": {
      "image/png": "[encoded data removed]",
      "text/plain": [
       "<Figure size 640x480 with 6 Axes>"
      ]
     },
     "metadata": {},
     "output_type": "display_data"
    }
   ],
   "source": [
    "unique_data.hist()"
   ]
  },
  {
   "cell_type": "code",
   "execution_count": 12,
   "id": "fd40d7cf-30bb-486f-96be-b4b5d261c8b3",
   "metadata": {
    "tags": []
   },
   "outputs": [
    {
     "name": "stderr",
     "output_type": "stream",
     "text": [
      "C:\\Users\\lenovo\\AppData\\Local\\Temp\\ipykernel_14572\\877660171.py:1: FutureWarning: The default value of numeric_only in DataFrame.corr is deprecated. In a future version, it will default to False. Select only valid columns or specify the value of numeric_only to silence this warning.\n",
      "  unique_data.corr()\n"
     ]
    },
    {
     "data": {
      "text/html": [
       "<div>\n",
       "<style scoped>\n",
       "    .dataframe tbody tr th:only-of-type {\n",
       "        vertical-align: middle;\n",
       "    }\n",
       "\n",
       "    .dataframe tbody tr th {\n",
       "        vertical-align: top;\n",
       "    }\n",
       "\n",
       "    .dataframe thead th {\n",
       "        text-align: right;\n",
       "    }\n",
       "</style>\n",
       "<table border=\"1\" class=\"dataframe\">\n",
       "  <thead>\n",
       "    <tr style=\"text-align: right;\">\n",
       "      <th></th>\n",
       "      <th>number_of_panels_total</th>\n",
       "      <th>kw_total</th>\n",
       "      <th>kw_median</th>\n",
       "      <th>yearly_sunlight_kwh_median</th>\n",
       "      <th>yearly_sunlight_kwh_total</th>\n",
       "      <th>existing_installs_count</th>\n",
       "    </tr>\n",
       "  </thead>\n",
       "  <tbody>\n",
       "    <tr>\n",
       "      <th>number_of_panels_total</th>\n",
       "      <td>1.000000</td>\n",
       "      <td>1.000000</td>\n",
       "      <td>0.306759</td>\n",
       "      <td>0.314965</td>\n",
       "      <td>0.995479</td>\n",
       "      <td>0.817110</td>\n",
       "    </tr>\n",
       "    <tr>\n",
       "      <th>kw_total</th>\n",
       "      <td>1.000000</td>\n",
       "      <td>1.000000</td>\n",
       "      <td>0.306759</td>\n",
       "      <td>0.314965</td>\n",
       "      <td>0.995479</td>\n",
       "      <td>0.817110</td>\n",
       "    </tr>\n",
       "    <tr>\n",
       "      <th>kw_median</th>\n",
       "      <td>0.306759</td>\n",
       "      <td>0.306759</td>\n",
       "      <td>1.000000</td>\n",
       "      <td>0.936857</td>\n",
       "      <td>0.328624</td>\n",
       "      <td>0.270983</td>\n",
       "    </tr>\n",
       "    <tr>\n",
       "      <th>yearly_sunlight_kwh_median</th>\n",
       "      <td>0.314965</td>\n",
       "      <td>0.314965</td>\n",
       "      <td>0.936857</td>\n",
       "      <td>1.000000</td>\n",
       "      <td>0.352959</td>\n",
       "      <td>0.327693</td>\n",
       "    </tr>\n",
       "    <tr>\n",
       "      <th>yearly_sunlight_kwh_total</th>\n",
       "      <td>0.995479</td>\n",
       "      <td>0.995479</td>\n",
       "      <td>0.328624</td>\n",
       "      <td>0.352959</td>\n",
       "      <td>1.000000</td>\n",
       "      <td>0.855156</td>\n",
       "    </tr>\n",
       "    <tr>\n",
       "      <th>existing_installs_count</th>\n",
       "      <td>0.817110</td>\n",
       "      <td>0.817110</td>\n",
       "      <td>0.270983</td>\n",
       "      <td>0.327693</td>\n",
       "      <td>0.855156</td>\n",
       "      <td>1.000000</td>\n",
       "    </tr>\n",
       "  </tbody>\n",
       "</table>\n",
       "</div>"
      ],
      "text/plain": [
       "                            number_of_panels_total  kw_total  kw_median  \\\n",
       "number_of_panels_total                    1.000000  1.000000   0.306759   \n",
       "kw_total                                  1.000000  1.000000   0.306759   \n",
       "kw_median                                 0.306759  0.306759   1.000000   \n",
       "yearly_sunlight_kwh_median                0.314965  0.314965   0.936857   \n",
       "yearly_sunlight_kwh_total                 0.995479  0.995479   0.328624   \n",
       "existing_installs_count                   0.817110  0.817110   0.270983   \n",
       "\n",
       "                            yearly_sunlight_kwh_median  \\\n",
       "number_of_panels_total                        0.314965   \n",
       "kw_total                                      0.314965   \n",
       "kw_median                                     0.936857   \n",
       "yearly_sunlight_kwh_median                    1.000000   \n",
       "yearly_sunlight_kwh_total                     0.352959   \n",
       "existing_installs_count                       0.327693   \n",
       "\n",
       "                            yearly_sunlight_kwh_total  existing_installs_count  \n",
       "number_of_panels_total                       0.995479                 0.817110  \n",
       "kw_total                                     0.995479                 0.817110  \n",
       "kw_median                                    0.328624                 0.270983  \n",
       "yearly_sunlight_kwh_median                   0.352959                 0.327693  \n",
       "yearly_sunlight_kwh_total                    1.000000                 0.855156  \n",
       "existing_installs_count                      0.855156                 1.000000  "
      ]
     },
     "execution_count": 12,
     "metadata": {},
     "output_type": "execute_result"
    }
   ],
   "source": [
    "unique_data.corr()"
   ]
  },
  {
   "cell_type": "code",
   "execution_count": 13,
   "id": "0884e5f0-3663-458f-b973-64357103387c",
   "metadata": {
    "collapsed": true,
    "jupyter": {
     "outputs_hidden": true
    }
   },
   "outputs": [
    {
     "data": {
      "text/plain": [
       "<AxesSubplot: xlabel='yearly_sunlight_kwh_median', ylabel='existing_installs_count'>"
      ]
     },
     "execution_count": 13,
     "metadata": {},
     "output_type": "execute_result"
    },
    {
     "data": {
      "image/png": "[encoded data removed]",
      "text/plain": [
       "<Figure size 640x480 with 1 Axes>"
      ]
     },
     "metadata": {},
     "output_type": "display_data"
    }
   ],
   "source": [
    "# it looks like the median kW is not correlated with the existing installs\n",
    "unique_data.plot.scatter(x='yearly_sunlight_kwh_median', y='existing_installs_count')"
   ]
  },
  {
   "cell_type": "code",
   "execution_count": 14,
   "id": "702d9738-6e47-4148-953f-550c6a973956",
   "metadata": {
    "tags": []
   },
   "outputs": [
    {
     "data": {
      "text/html": [
       "<div>\n",
       "<style scoped>\n",
       "    .dataframe tbody tr th:only-of-type {\n",
       "        vertical-align: middle;\n",
       "    }\n",
       "\n",
       "    .dataframe tbody tr th {\n",
       "        vertical-align: top;\n",
       "    }\n",
       "\n",
       "    .dataframe thead th {\n",
       "        text-align: right;\n",
       "    }\n",
       "</style>\n",
       "<table border=\"1\" class=\"dataframe\">\n",
       "  <thead>\n",
       "    <tr style=\"text-align: right;\">\n",
       "      <th></th>\n",
       "      <th>state_name</th>\n",
       "      <th>number_of_panels_total</th>\n",
       "      <th>kw_total</th>\n",
       "      <th>kw_median</th>\n",
       "      <th>yearly_sunlight_kwh_median</th>\n",
       "      <th>yearly_sunlight_kwh_total</th>\n",
       "      <th>existing_installs_count</th>\n",
       "    </tr>\n",
       "  </thead>\n",
       "  <tbody>\n",
       "    <tr>\n",
       "      <th>5</th>\n",
       "      <td>California</td>\n",
       "      <td>531022657</td>\n",
       "      <td>1.327557e+08</td>\n",
       "      <td>9.75</td>\n",
       "      <td>14460.077979</td>\n",
       "      <td>1.980163e+11</td>\n",
       "      <td>328899.0</td>\n",
       "    </tr>\n",
       "    <tr>\n",
       "      <th>10</th>\n",
       "      <td>Florida</td>\n",
       "      <td>305682374</td>\n",
       "      <td>7.642059e+07</td>\n",
       "      <td>12.75</td>\n",
       "      <td>17250.183057</td>\n",
       "      <td>1.050627e+11</td>\n",
       "      <td>104123.0</td>\n",
       "    </tr>\n",
       "  </tbody>\n",
       "</table>\n",
       "</div>"
      ],
      "text/plain": [
       "    state_name  number_of_panels_total      kw_total  kw_median  \\\n",
       "5   California               531022657  1.327557e+08       9.75   \n",
       "10     Florida               305682374  7.642059e+07      12.75   \n",
       "\n",
       "    yearly_sunlight_kwh_median  yearly_sunlight_kwh_total  \\\n",
       "5                 14460.077979               1.980163e+11   \n",
       "10                17250.183057               1.050627e+11   \n",
       "\n",
       "    existing_installs_count  \n",
       "5                  328899.0  \n",
       "10                 104123.0  "
      ]
     },
     "execution_count": 14,
     "metadata": {},
     "output_type": "execute_result"
    }
   ],
   "source": [
    "# outliers\n",
    "unique_data[unique_data['existing_installs_count']>50000]"
   ]
  },
  {
   "cell_type": "code",
   "execution_count": 21,
   "id": "f8cdf919-983c-46d9-adaf-8ce01c8a0e48",
   "metadata": {},
   "outputs": [],
   "source": [
    "# Fill the missing values now\n",
    "imputer = KNNImputer(n_neighbors=2)\n",
    "state_names = unique_data[['state_name']]  # indexing a single column with a list keeps it as a DataFrame instead of a Series\n",
    "numeric_df = unique_data.drop('state_name', axis=1)\n",
    "imputed = imputer.fit_transform(numeric_df)\n",
    "numeric_df[numeric_df.columns] = imputed\n",
    "unique_data = pd.concat([state_names, numeric_df], axis=1)"
   ]
  },
  {
   "cell_type": "code",
   "execution_count": 25,
   "id": "a9a7be50-c40e-40b3-8aa7-a7565f1141f5",
   "metadata": {},
   "outputs": [
    {
     "data": {
      "text/plain": [
       "state_name                    1\n",
       "number_of_panels_total        0\n",
       "kw_total                      0\n",
       "kw_median                     0\n",
       "yearly_sunlight_kwh_median    0\n",
       "yearly_sunlight_kwh_total     0\n",
       "existing_installs_count       0\n",
       "dtype: int64"
      ]
     },
     "execution_count": 25,
     "metadata": {},
     "output_type": "execute_result"
    }
   ],
   "source": [
    "unique_data.isna().sum()"
   ]
  },
  {
   "cell_type": "code",
   "execution_count": 27,
   "id": "e2d31dd6-ddc3-45fb-87f1-dccfcbebd022",
   "metadata": {},
   "outputs": [],
   "source": [
    "unique_data.to_excel('data/cleaned_solar_data.xlsx', index=False)"
   ]
  },
  {
   "cell_type": "markdown",
   "id": "2cc51ec7-2e72-4bc2-88d7-1d55c1609e8f",
   "metadata": {},
   "source": [
    "Summary:\n",
    "\n",
    "The data is very small, with each US state, DC, and one unknown location having data. Most of the data is left-skewed with some large outliers. A few large outliers are CA and FL, which have a lot of installed solar panels.\n",
    "We also see some strong correlations between certain columns of data. For example, the yearly kW total, number of panels, and existing installs count were strongly correcated, the kWh and kW median columns were weakly correlated to everything else. Some duplicates were detected in the data and were removed, and some missing values filled in with KNN imputation. Then the data was saved to an Excel file for further use."
   ]
  }
 ],
 "metadata": {
  "kernelspec": {
   "display_name": "Python 3 (ipykernel)",
   "language": "python",
   "name": "python3"
  },
  "language_info": {
   "codemirror_mode": {
    "name": "ipython",
    "version": 3
   },
   "file_extension": ".py",
   "mimetype": "text/x-python",
   "name": "python",
   "nbconvert_exporter": "python",
   "pygments_lexer": "ipython3",
   "version": "3.9.16"
  }
 },
 "nbformat": 4,
 "nbformat_minor": 5
}
