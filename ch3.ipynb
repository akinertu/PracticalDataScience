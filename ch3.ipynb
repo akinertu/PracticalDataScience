{
 "cells": [
  {
   "cell_type": "code",
   "execution_count": 1,
   "id": "a80ead8b-a5bc-48ba-80d0-641a0d76b775",
   "metadata": {},
   "outputs": [],
   "source": [
    "import json\n",
    "with open('Notebooks/Data/bitcoin_price.json') as f:\n",
    "    data = json.load(f) #list of dictionaries"
   ]
  },
  {
   "cell_type": "code",
   "execution_count": 2,
   "id": "55230c0d-4311-4cdb-ab5f-77a7b199821a",
   "metadata": {},
   "outputs": [],
   "source": [
    "data_list = []\n",
    "for d in data:\n",
    "    data_list.append([d['time'], d['open'], d['close'], d['high'], d['low'], d['volume']])"
   ]
  },
  {
   "cell_type": "code",
   "execution_count": 3,
   "id": "74174468-aa9d-4925-b340-62ccaddff737",
   "metadata": {},
   "outputs": [],
   "source": [
    "import sqlite3\n",
    "db = sqlite3.connect('Notebooks/Data/bitcoin_data.sql')\n",
    "cursor = db.cursor()\n",
    "cursor.execute('CREATE TABLE bitcoin_price (time INTEGER, open REAL, close REAL, high REAL, low REAL, volume REAL);')\n",
    "cursor.executemany('INSERT INTO bitcoin_price VALUES (?, ?, ?, ?, ?, ?)', data_list)\n",
    "db.commit()\n",
    "db.close()"
   ]
  },
  {
   "cell_type": "code",
   "execution_count": 8,
   "id": "451e57e9-5bb0-4a0d-95c2-b0358597c5ce",
   "metadata": {},
   "outputs": [
    {
     "data": {
      "text/plain": [
       "1364688000000"
      ]
     },
     "execution_count": 8,
     "metadata": {},
     "output_type": "execute_result"
    }
   ],
   "source": [
    "db = sqlite3.connect('Notebooks/Data/bitcoin_data.sql')\n",
    "cursor = db.cursor()\n",
    "max_time = cursor.execute('SELECT MAX(time) FROM bitcoin_price;').fetchone()[0]\n",
    "min_time = cursor.execute('SELECT MIN(time) FROM bitcoin_price;').fetchone()[0]"
   ]
  },
  {
   "cell_type": "code",
   "execution_count": 6,
   "id": "9814f9a2-3906-4e49-b34a-90253cd8de34",
   "metadata": {},
   "outputs": [
    {
     "data": {
      "text/plain": [
       "datetime.datetime(2020, 11, 28, 3, 0)"
      ]
     },
     "execution_count": 6,
     "metadata": {},
     "output_type": "execute_result"
    }
   ],
   "source": [
    "import datetime\n",
    "datetime.datetime.fromtimestamp(max_time // 1000)\n",
    "datetime.datetime.fromtimestamp(min_time // 1000)"
   ]
  },
  {
   "cell_type": "code",
   "execution_count": 9,
   "id": "702cbceb-f0b3-4503-bef2-b3e12db62f9f",
   "metadata": {},
   "outputs": [
    {
     "data": {
      "text/plain": [
       "[(1138.5, '2013'),\n",
       " (919.24, '2014'),\n",
       " (466.01, '2015'),\n",
       " (981.7, '2016'),\n",
       " (19210.0, '2017'),\n",
       " (17169.0, '2018'),\n",
       " (12876.0, '2019'),\n",
       " (19131.0, '2020')]"
      ]
     },
     "execution_count": 9,
     "metadata": {},
     "output_type": "execute_result"
    }
   ],
   "source": [
    "query = \"\"\"\n",
    "SELECT MAX(close), STRFTIME('%Y', DATE(ROUND(time / 1000), 'unixepoch')) as year\n",
    "FROM bitcoin_price\n",
    "GROUP BY year\n",
    "ORDER BY year;\n",
    "\"\"\"\n",
    "max_price = cursor.execute(query)\n",
    "max_price.fetchall()"
   ]
  },
  {
   "cell_type": "code",
   "execution_count": 10,
   "id": "2d43c95f-75a4-434f-9ba1-cec250174941",
   "metadata": {},
   "outputs": [],
   "source": [
    "db.close()"
   ]
  }
 ],
 "metadata": {
  "kernelspec": {
   "display_name": "Python 3 (ipykernel)",
   "language": "python",
   "name": "python3"
  },
  "language_info": {
   "codemirror_mode": {
    "name": "ipython",
    "version": 3
   },
   "file_extension": ".py",
   "mimetype": "text/x-python",
   "name": "python",
   "nbconvert_exporter": "python",
   "pygments_lexer": "ipython3",
   "version": "3.9.16"
  }
 },
 "nbformat": 4,
 "nbformat_minor": 5
}
